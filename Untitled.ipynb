{
 "cells": [
  {
   "cell_type": "code",
   "execution_count": 1,
   "id": "2d48b3f3-1391-4ce0-9b77-92f6f664cbb0",
   "metadata": {},
   "outputs": [],
   "source": [
    "import pandas as pd\n",
    "import numpy as np\n",
    "import matplotlib.pyplot as plt\n",
    "import seaborn as sns\n",
    "from datetime import datetime, timedelta "
   ]
  },
  {
   "cell_type": "code",
   "execution_count": 3,
   "id": "f998ed10-418f-44d2-8a6a-d827725419b4",
   "metadata": {},
   "outputs": [],
   "source": [
    "patients = pd.read_csv('patients.csv')\n",
    "conditions = pd.read_csv('conditions.csv')\n",
    "observations = pd.read_csv('observations.csv')\n",
    "medications = pd.read_csv('medications.csv')\n",
    "procedures = pd.read_csv('procedures.csv')"
   ]
  },
  {
   "cell_type": "code",
   "execution_count": 9,
   "id": "f6e1425f-f309-4df2-8eb7-cc24b9aed12d",
   "metadata": {},
   "outputs": [],
   "source": [
    "def calculate_age(birthdate):\n",
    "    \"\"\"\n",
    "    Calculate age based on birthdate\n",
    "    \n",
    "    Parameters:\n",
    "    birthdate (str): Birthdate in 'YYYY-MM-DD' format\n",
    "    \n",
    "    Returns:\n",
    "    int: Calculated age or NaN if invalid date\n",
    "    \"\"\"\n",
    "    today = datetime.now()\n",
    "    try:\n",
    "        birth = datetime.strptime(birthdate, '%Y-%m-%d')\n",
    "        age = today.year - birth.year - ((today.month, today.day) < (birth.month, birth.day))\n",
    "        return age\n",
    "    except:\n",
    "        return np.nan"
   ]
  },
  {
   "cell_type": "code",
   "execution_count": 17,
   "id": "e3cf563c-ef05-4358-a694-ff322b4e9544",
   "metadata": {},
   "outputs": [
    {
     "name": "stdout",
     "output_type": "stream",
     "text": [
      "Index(['Id', 'BIRTHDATE', 'DEATHDATE', 'SSN', 'DRIVERS', 'PASSPORT', 'PREFIX',\n",
      "       'FIRST', 'MIDDLE', 'LAST', 'SUFFIX', 'MAIDEN', 'MARITAL', 'RACE',\n",
      "       'ETHNICITY', 'GENDER', 'BIRTHPLACE', 'ADDRESS', 'CITY', 'STATE',\n",
      "       'COUNTY', 'FIPS', 'ZIP', 'LAT', 'LON', 'HEALTHCARE_EXPENSES',\n",
      "       'HEALTHCARE_COVERAGE', 'INCOME', 'AGE', 'AGE_GROUP'],\n",
      "      dtype='object')\n"
     ]
    }
   ],
   "source": [
    "print(patients.columns)"
   ]
  },
  {
   "cell_type": "code",
   "execution_count": 19,
   "id": "881d2173-3298-472a-8a33-67f58212520b",
   "metadata": {},
   "outputs": [
    {
     "name": "stdout",
     "output_type": "stream",
     "text": [
      "Index(['START', 'STOP', 'PATIENT', 'PAYER', 'ENCOUNTER', 'CODE', 'DESCRIPTION',\n",
      "       'BASE_COST', 'PAYER_COVERAGE', 'DISPENSES', 'TOTALCOST', 'REASONCODE',\n",
      "       'REASONDESCRIPTION'],\n",
      "      dtype='object')\n"
     ]
    }
   ],
   "source": [
    "print(medications.columns)"
   ]
  },
  {
   "cell_type": "code",
   "execution_count": 21,
   "id": "87d5649a-8597-4150-b7e9-26f5c1edec48",
   "metadata": {},
   "outputs": [
    {
     "name": "stdout",
     "output_type": "stream",
     "text": [
      "Index(['START', 'STOP', 'PATIENT', 'ENCOUNTER', 'SYSTEM', 'CODE',\n",
      "       'DESCRIPTION'],\n",
      "      dtype='object')\n"
     ]
    }
   ],
   "source": [
    "print(conditions.columns)"
   ]
  },
  {
   "cell_type": "code",
   "execution_count": 23,
   "id": "75072ea0-a910-4de4-ace2-69d928f20169",
   "metadata": {},
   "outputs": [
    {
     "name": "stdout",
     "output_type": "stream",
     "text": [
      "Index(['DATE', 'PATIENT', 'ENCOUNTER', 'CATEGORY', 'CODE', 'DESCRIPTION',\n",
      "       'VALUE', 'UNITS', 'TYPE'],\n",
      "      dtype='object')\n"
     ]
    }
   ],
   "source": [
    "print(observations.columns)"
   ]
  },
  {
   "cell_type": "code",
   "execution_count": 25,
   "id": "7c92a176-7de3-419d-8bc1-2dea35022b56",
   "metadata": {},
   "outputs": [
    {
     "name": "stdout",
     "output_type": "stream",
     "text": [
      "Index(['START', 'STOP', 'PATIENT', 'ENCOUNTER', 'SYSTEM', 'CODE',\n",
      "       'DESCRIPTION', 'BASE_COST', 'REASONCODE', 'REASONDESCRIPTION'],\n",
      "      dtype='object')\n"
     ]
    }
   ],
   "source": [
    "print(procedures.columns)  "
   ]
  },
  {
   "cell_type": "code",
   "execution_count": 15,
   "id": "f6557add-3e31-4a1a-a72e-86f9670601bf",
   "metadata": {},
   "outputs": [
    {
     "name": "stderr",
     "output_type": "stream",
     "text": [
      "/var/folders/bf/qsgp03n57c7ct29vpyd3hf9h0000gn/T/ipykernel_37107/1056335412.py:10: FutureWarning: \n",
      "\n",
      "Passing `palette` without assigning `hue` is deprecated and will be removed in v0.14.0. Assign the `x` variable to `hue` and set `legend=False` for the same effect.\n",
      "\n",
      "  sns.countplot(x='AGE_GROUP', data=patients, palette='Set2')\n"
     ]
    },
    {
     "data": {
      "image/png": "[encoded data removed]",
      "text/plain": [
       "<Figure size 800x500 with 1 Axes>"
      ]
     },
     "metadata": {},
     "output_type": "display_data"
    }
   ],
   "source": [
    "patients['BIRTHDATE'] = pd.to_datetime(patients['BIRTHDATE'])\n",
    "\n",
    "patients['AGE'] = pd.to_datetime('today').year - patients['BIRTHDATE'].dt.year\n",
    "\n",
    "age_bins = [0, 10, 18, 64, float('inf')]  \n",
    "age_labels = ['0-10', '11-18', '19-64', '65+']\n",
    "patients['AGE_GROUP'] = pd.cut(patients['AGE'], bins=age_bins, labels=age_labels, right=False)\n",
    "\n",
    "plt.figure(figsize=(8, 5))\n",
    "sns.countplot(x='AGE_GROUP', data=patients, palette='Set2')\n",
    "plt.title('Age Group Distribution of Patients')\n",
    "plt.xlabel('Age Group')\n",
    "plt.ylabel('Number of Patients')\n",
    "plt.show()\n"
   ]
  },
  {
   "cell_type": "code",
   "execution_count": 27,
   "id": "d820920e-e874-4cc0-a3c6-8a57abcea0bd",
   "metadata": {
    "scrolled": true
   },
   "outputs": [
    {
     "name": "stdout",
     "output_type": "stream",
     "text": [
      "Unique Entries in 'DESCRIPTION' column:\n",
      "Medication review due (situation)\n",
      "Gingivitis (disorder)\n",
      "Gingival disease (disorder)\n",
      "Chronic sinusitis (disorder)\n",
      "Acute viral pharyngitis (disorder)\n",
      "Sprain (morphologic abnormality)\n",
      "Sprain of ankle (disorder)\n",
      "Viral sinusitis (disorder)\n",
      "Acute bronchitis (disorder)\n",
      "Primary dental caries (disorder)\n",
      "Educated to high school level (finding)\n",
      "Full-time employment (finding)\n",
      "Stress (finding)\n",
      "Part-time employment (finding)\n",
      "Laceration - injury (disorder)\n",
      "Laceration of thigh (disorder)\n",
      "Sprain of wrist (disorder)\n",
      "Facial laceration (disorder)\n",
      "Streptococcal sore throat (disorder)\n",
      "Normal pregnancy (finding)\n",
      "Only received primary school education (finding)\n",
      "Infection of tooth (disorder)\n",
      "Dental filling lost (finding)\n",
      "Serving in military service (finding)\n",
      "Received higher education (finding)\n",
      "Limited social contact (finding)\n",
      "Acute infective cystitis (disorder)\n",
      "Loose dental filling (finding)\n",
      "Risk activity involvement (finding)\n",
      "Victim of intimate partner abuse (finding)\n",
      "Social isolation (finding)\n",
      "Loss of teeth (disorder)\n",
      "Leaking dental filling (finding)\n",
      "Transport problem (finding)\n",
      "Has a criminal record (finding)\n",
      "Essential hypertension (disorder)\n",
      "Lack of access to transportation (finding)\n",
      "Chronic pain (finding)\n",
      "Chronic neck pain (finding)\n",
      "Not in labor force (finding)\n",
      "Suspected disease caused by Severe acute respiratory coronavirus 2 (situation)\n",
      "Cough (finding)\n",
      "Sputum finding (finding)\n",
      "Fatigue (finding)\n",
      "Fever (finding)\n",
      "Disease caused by severe acute respiratory syndrome coronavirus 2 (disorder)\n",
      "Atopic dermatitis (disorder)\n",
      "Childhood asthma (disorder)\n",
      "Perennial allergic rhinitis (disorder)\n",
      "Otitis media (disorder)\n",
      "Appendicitis (disorder)\n",
      "History of appendectomy (situation)\n",
      "Fracture of bone (disorder)\n",
      "Fracture of forearm (disorder)\n",
      "Body mass index 30+ - obesity (finding)\n",
      "Prediabetes (finding)\n",
      "Anemia (disorder)\n",
      "Acute ST segment elevation myocardial infarction (disorder)\n",
      "History of myocardial infarction (situation)\n",
      "Sinusitis (disorder)\n",
      "Metabolic syndrome X (disorder)\n",
      "Reports of violence in the environment (finding)\n",
      "Nausea (finding)\n",
      "Vomiting symptom (finding)\n",
      "Chill (finding)\n",
      "Loss of taste (finding)\n",
      "Closed fracture of hip (disorder)\n",
      "Dyspnea (finding)\n",
      "Wheezing (finding)\n",
      "Aortic valve regurgitation (disorder)\n",
      "Chronic low back pain (finding)\n",
      "Sterilization requested (situation)\n",
      "History of tubal ligation (situation)\n",
      "Unemployed (finding)\n",
      "Fractured dental filling (finding)\n",
      "Injury of knee (disorder)\n",
      "Injury of medial collateral ligament of knee (disorder)\n",
      "Inflammatory disorder due to increased blood urate level (disorder)\n",
      "Acute non-ST segment elevation myocardial infarction (disorder)\n",
      "Ischemic heart disease (disorder)\n",
      "Abnormal findings diagnostic imaging heart+coronary circulat (finding)\n",
      "Chronic kidney disease stage 1 (disorder)\n",
      "Disorder of kidney due to diabetes mellitus (disorder)\n",
      "Severe anxiety (panic) (finding)\n",
      "Miscarriage in first trimester (disorder)\n",
      "Complete miscarriage (disorder)\n",
      "Past pregnancy history of miscarriage (situation)\n",
      "Misuses drugs (finding)\n",
      "Chronic kidney disease stage 2 (disorder)\n",
      "Microalbuminuria due to type 2 diabetes mellitus (disorder)\n",
      "Unhealthy alcohol drinking behavior (finding)\n",
      "Injury of anterior cruciate ligament (disorder)\n",
      "History of coronary artery bypass grafting (situation)\n",
      "Polyp of colon (disorder)\n",
      "Blighted ovum (disorder)\n",
      "Injury of neck (disorder)\n",
      "Whiplash injury to neck (disorder)\n",
      "Fracture subluxation of wrist (disorder)\n",
      "Recurrent urinary tract infection (disorder)\n",
      "Housing unsatisfactory (finding)\n",
      "Burn injury (morphologic abnormality)\n",
      "Epidermal burn of skin (disorder)\n",
      "Homeless (finding)\n",
      "Traumatic dislocation of temporomandibular joint (disorder)\n",
      "Concussion injury of brain (disorder)\n",
      "Concussion with no loss of consciousness (disorder)\n",
      "Injury of tendon of the rotator cuff of shoulder (disorder)\n",
      "Partial thickness burn (disorder)\n",
      "Osteoarthritis of knee (disorder)\n",
      "Diabetes mellitus type 2 (disorder)\n",
      "Fracture of clavicle (disorder)\n",
      "Seasonal allergic rhinitis (disorder)\n",
      "Fracture of ankle (disorder)\n",
      "Traumatic or nontraumatic brain injury (disorder)\n",
      "Acute bacterial sinusitis (disorder)\n",
      "Hyperlipidemia (disorder)\n",
      "Fibromyalgia (disorder)\n",
      "Impacted molars (disorder)\n",
      "Laceration of foot (disorder)\n",
      "Myocardial infarction (disorder)\n",
      "Alzheimer's disease (disorder)\n",
      "Pulmonic valve stenosis (disorder)\n",
      "Refugee (person)\n",
      "Malignant neoplasm of breast (disorder)\n",
      "Seizure disorder (disorder)\n",
      "History of seizure (situation)\n",
      "Epilepsy (disorder)\n",
      "Headache (finding)\n",
      "Muscle pain (finding)\n",
      "Joint pain (finding)\n",
      "Laceration of forearm (disorder)\n",
      "Sepsis (disorder)\n",
      "Eclampsia in pregnancy (disorder)\n",
      "Gunshot wound (disorder)\n",
      "Bullet wound (disorder)\n",
      "Primary malignant neoplasm of colon (disorder)\n",
      "Localized  primary osteoarthritis of the hand (disorder)\n",
      "Osteoporosis (disorder)\n",
      "Torus palatinus (disorder)\n",
      "Hyperglycemia (disorder)\n",
      "Hypertriglyceridemia (disorder)\n",
      "Diarrhea symptom (finding)\n",
      "Miscarriage in second trimester (disorder)\n",
      "Fetus with chromosomal abnormality (disorder)\n",
      "Septic shock (disorder)\n",
      "Acute respiratory distress syndrome (disorder)\n",
      "Sleep disorder (disorder)\n",
      "Sleep apnea (disorder)\n",
      "Resorption of alveolar process due to dental trauma (disorder)\n",
      "Laceration of hand (disorder)\n",
      "Acute allergic reaction (disorder)\n",
      "Tubal pregnancy (disorder)\n",
      "Opioid abuse (disorder)\n",
      "Fracture of rib (disorder)\n",
      "Chronic kidney disease stage 3 (disorder)\n",
      "Proteinuria due to type 2 diabetes mellitus (disorder)\n",
      "Chronic obstructive bronchitis (disorder)\n",
      "Pneumonia (disorder)\n",
      "Hypoxemia (disorder)\n",
      "Respiratory distress (finding)\n",
      "Acute pulmonary embolism (disorder)\n",
      "Retinopathy due to type 2 diabetes mellitus (disorder)\n",
      "Awaiting transplantation of kidney (situation)\n",
      "Chronic kidney disease stage 4 (disorder)\n",
      "History of renal transplant (situation)\n",
      "Child attention deficit disorder (disorder)\n",
      "Smokes tobacco daily (finding)\n",
      "Suspected prostate cancer (situation)\n",
      "Neoplasm of prostate (disorder)\n",
      "Carcinoma in situ of prostate (disorder)\n",
      "Recurrent rectal polyp (disorder)\n",
      "Transformed migraine (disorder)\n",
      "Idiopathic atrophic hypothyroidism (disorder)\n",
      "Alveolitis of jaw (disorder)\n",
      "Rheumatoid arthritis (disorder)\n",
      "Pre-eclampsia (disorder)\n",
      "Rupture of patellar tendon (disorder)\n",
      "Sore throat (finding)\n",
      "Sepsis caused by virus (disorder)\n",
      "Chronic intractable migraine without aura (disorder)\n",
      "Dependent drug abuse (disorder)\n",
      "Drug overdose\n",
      "Chronic congestive heart failure (disorder)\n",
      "Neuropathy due to type 2 diabetes mellitus (disorder)\n",
      "Malignant neoplasm of colon (disorder)\n"
     ]
    }
   ],
   "source": [
    "unique_descriptions = conditions['DESCRIPTION'].unique()\n",
    "\n",
    "print(\"Unique Entries in 'DESCRIPTION' column:\")\n",
    "for description in unique_descriptions:\n",
    "    print(description)\n"
   ]
  },
  {
   "cell_type": "code",
   "execution_count": 29,
   "id": "ab44dc47-5129-4559-9545-fcc4c8854551",
   "metadata": {},
   "outputs": [
    {
     "name": "stdout",
     "output_type": "stream",
     "text": [
      "Number of patients with psychiatric diagnoses: 40\n",
      "Proportion of patients with psychiatric diagnoses: 0.37\n"
     ]
    }
   ],
   "source": [
    "psychiatric_conditions = [\n",
    "    'depression', 'anxiety', 'schizophrenia', 'severe anxiety', 'panic',\n",
    "    'misuses drugs', 'opioid abuse', 'unhealthy alcohol drinking behavior', \n",
    "    'dependent drug abuse', 'drug overdose'\n",
    "]\n",
    "\n",
    "conditions['DESCRIPTION'] = conditions['DESCRIPTION'].str.lower()\n",
    "\n",
    "psychiatric_patients = conditions[conditions['DESCRIPTION'].str.contains('|'.join(psychiatric_conditions), na=False)]\n",
    "\n",
    "psychiatric_patient_count = psychiatric_patients['PATIENT'].nunique()\n",
    "\n",
    "total_patient_count = conditions['PATIENT'].nunique()\n",
    "proportion_psychiatric_patients = psychiatric_patient_count / total_patient_count\n",
    "\n",
    "print(f\"Number of patients with psychiatric diagnoses: {psychiatric_patient_count}\")\n",
    "print(f\"Proportion of patients with psychiatric diagnoses: {proportion_psychiatric_patients:.2f}\")\n"
   ]
  },
  {
   "cell_type": "code",
   "execution_count": 31,
   "id": "22548cb2-30cc-4b89-b761-f91ca28a5417",
   "metadata": {},
   "outputs": [
    {
     "name": "stderr",
     "output_type": "stream",
     "text": [
      "/var/folders/bf/qsgp03n57c7ct29vpyd3hf9h0000gn/T/ipykernel_37107/1853515518.py:5: FutureWarning: \n",
      "\n",
      "Passing `palette` without assigning `hue` is deprecated and will be removed in v0.14.0. Assign the `x` variable to `hue` and set `legend=False` for the same effect.\n",
      "\n",
      "  sns.barplot(x=patient_status, y=patient_count, palette='coolwarm')\n"
     ]
    },
    {
     "data": {
      "image/png": "[encoded data removed]",
      "text/plain": [
       "<Figure size 800x500 with 1 Axes>"
      ]
     },
     "metadata": {},
     "output_type": "display_data"
    },
    {
     "data": {
      "image/png": "[encoded data removed]",
      "text/plain": [
       "<Figure size 800x800 with 1 Axes>"
      ]
     },
     "metadata": {},
     "output_type": "display_data"
    }
   ],
   "source": [
    "patient_status = ['Psychiatric Diagnoses', 'No Psychiatric Diagnoses']\n",
    "patient_count = [psychiatric_patient_count, total_patient_count - psychiatric_patient_count]\n",
    "\n",
    "plt.figure(figsize=(8, 5))\n",
    "sns.barplot(x=patient_status, y=patient_count, palette='coolwarm')\n",
    "plt.title('Count of Patients with Psychiatric Diagnoses vs. Without')\n",
    "plt.xlabel('Patient Status')\n",
    "plt.ylabel('Patient Count')\n",
    "plt.show()\n",
    "\n",
    "labels = ['Psychiatric Diagnoses', 'No Psychiatric Diagnoses']\n",
    "sizes = [psychiatric_patient_count, total_patient_count - psychiatric_patient_count]\n",
    "colors = ['#ff9999','#66b3ff']\n",
    "\n",
    "plt.figure(figsize=(8, 8))\n",
    "plt.pie(sizes, labels=labels, autopct='%1.1f%%', startangle=90, colors=colors, explode=(0.1, 0))\n",
    "plt.title('Proportion of Patients with Psychiatric Diagnoses')\n",
    "plt.axis('equal') \n",
    "plt.show()"
   ]
  },
  {
   "cell_type": "code",
   "execution_count": 33,
   "id": "bf2463e6-8684-43bf-8e22-36d3aa06e20d",
   "metadata": {},
   "outputs": [
    {
     "name": "stdout",
     "output_type": "stream",
     "text": [
      "                                    PATIENT  \\\n",
      "527    5de95068-9fc0-e5d2-e016-8bd2558ca200   \n",
      "1001   569c57ce-42d4-b5c8-8349-fdc8fa5b9549   \n",
      "2052   6f7386bf-c22d-0df5-b8db-9c18d79ae1fd   \n",
      "3437   9a6af289-d042-e570-a020-664d160376a4   \n",
      "9182   3aefa9e4-9987-2e92-acae-922d12678589   \n",
      "10937  c479f197-aaa4-80f8-c43e-d45f16be2a0e   \n",
      "14327  e58b5a1a-66c8-fa65-640b-f7d432b1269c   \n",
      "17941  8eafa16e-df81-51d1-99b1-a0c2136d1dcf   \n",
      "23999  81272453-6ac1-9d1f-9126-544e03b8172f   \n",
      "30601  a5f278fd-b157-1139-ef77-4f06d0ca2ee5   \n",
      "32391  bb6074a0-108f-e71f-140f-d25150769392   \n",
      "40400  cf324c53-73dd-c23d-f541-7255b7960da0   \n",
      "52624  69cc87da-08cb-9ecb-ddc7-2e2f9d304cdf   \n",
      "57510  a8f6edcb-0c9a-95e5-c045-e52e834a5ee5   \n",
      "58772  548a7bf8-b124-588b-8a53-0caf2534f4e3   \n",
      "\n",
      "                                             DESCRIPTION  VALUE  \n",
      "527    Patient Health Questionnaire 9 item (PHQ-9) to...   16.0  \n",
      "1001   Patient Health Questionnaire 9 item (PHQ-9) to...   20.0  \n",
      "2052   Patient Health Questionnaire 9 item (PHQ-9) to...   14.0  \n",
      "3437   Patient Health Questionnaire 9 item (PHQ-9) to...   18.0  \n",
      "9182   Patient Health Questionnaire 9 item (PHQ-9) to...   11.0  \n",
      "10937  Patient Health Questionnaire 9 item (PHQ-9) to...   18.0  \n",
      "14327  Patient Health Questionnaire 9 item (PHQ-9) to...   13.0  \n",
      "17941  Patient Health Questionnaire 9 item (PHQ-9) to...   20.0  \n",
      "23999  Patient Health Questionnaire 9 item (PHQ-9) to...   11.0  \n",
      "30601  Patient Health Questionnaire 9 item (PHQ-9) to...   12.0  \n",
      "32391  Patient Health Questionnaire 9 item (PHQ-9) to...   25.0  \n",
      "40400  Patient Health Questionnaire 9 item (PHQ-9) to...   21.0  \n",
      "52624  Patient Health Questionnaire 9 item (PHQ-9) to...   20.0  \n",
      "57510  Patient Health Questionnaire 9 item (PHQ-9) to...   25.0  \n",
      "58772  Patient Health Questionnaire 9 item (PHQ-9) to...   18.0  \n"
     ]
    },
    {
     "name": "stderr",
     "output_type": "stream",
     "text": [
      "/var/folders/bf/qsgp03n57c7ct29vpyd3hf9h0000gn/T/ipykernel_37107/2305569682.py:2: SettingWithCopyWarning: \n",
      "A value is trying to be set on a copy of a slice from a DataFrame.\n",
      "Try using .loc[row_indexer,col_indexer] = value instead\n",
      "\n",
      "See the caveats in the documentation: https://pandas.pydata.org/pandas-docs/stable/user_guide/indexing.html#returning-a-view-versus-a-copy\n",
      "  phq9_data['VALUE'] = pd.to_numeric(phq9_data['VALUE'], errors='coerce')\n"
     ]
    }
   ],
   "source": [
    "phq9_data = observations[observations['DESCRIPTION'].str.contains('PHQ-9', case=False, na=False)]\n",
    "phq9_data['VALUE'] = pd.to_numeric(phq9_data['VALUE'], errors='coerce')\n",
    "phq9_filtered = phq9_data[phq9_data['VALUE'] > 10]\n",
    "\n",
    "print(phq9_filtered[['PATIENT', 'DESCRIPTION', 'VALUE']])\n"
   ]
  },
  {
   "cell_type": "code",
   "execution_count": 35,
   "id": "c4e37492-5c2c-4d50-91e1-179eb008dd16",
   "metadata": {},
   "outputs": [
    {
     "name": "stderr",
     "output_type": "stream",
     "text": [
      "/var/folders/bf/qsgp03n57c7ct29vpyd3hf9h0000gn/T/ipykernel_37107/1861284913.py:14: FutureWarning: \n",
      "\n",
      "Passing `palette` without assigning `hue` is deprecated and will be removed in v0.14.0. Assign the `x` variable to `hue` and set `legend=False` for the same effect.\n",
      "\n",
      "  sns.barplot(data=comparison_data, x='Category', y='Count', palette='Blues')\n"
     ]
    },
    {
     "data": {
      "image/png": "[encoded data removed]",
      "text/plain": [
       "<Figure size 800x600 with 1 Axes>"
      ]
     },
     "metadata": {},
     "output_type": "display_data"
    }
   ],
   "source": [
    "phq9_filtered = phq9_data[phq9_data['VALUE'] > 10]\n",
    "total_phq9_patients = phq9_data['PATIENT'].nunique()\n",
    "\n",
    "patients_phq9_greater_than_10 = phq9_filtered['PATIENT'].nunique()\n",
    "\n",
    "percentage_greater_than_10 = (patients_phq9_greater_than_10 / total_phq9_patients) * 100\n",
    "\n",
    "comparison_data = pd.DataFrame({\n",
    "    'Category': ['Total PHQ-9 Patients', 'PHQ-9 > 10 Patients'],\n",
    "    'Count': [total_phq9_patients, patients_phq9_greater_than_10]\n",
    "})\n",
    "\n",
    "plt.figure(figsize=(8, 6))\n",
    "sns.barplot(data=comparison_data, x='Category', y='Count', palette='Blues')\n",
    "\n",
    "plt.title(f'Comparison of Total PHQ-9 Patients vs. Patients with PHQ-9 > 10\\n'\n",
    "          f'({percentage_greater_than_10:.2f}% of total patients)', fontsize=14)\n",
    "plt.xlabel('Patient Group', fontsize=12)\n",
    "plt.ylabel('Number of Patients', fontsize=12)\n",
    "\n",
    "plt.tight_layout()\n",
    "plt.show()\n"
   ]
  },
  {
   "cell_type": "code",
   "execution_count": 37,
   "id": "01e3b2df-bc10-420a-80ff-079cc9fdcc2b",
   "metadata": {},
   "outputs": [
    {
     "name": "stdout",
     "output_type": "stream",
     "text": [
      "15\n",
      "                                   PATIENT  VALUE\n",
      "527   5de95068-9fc0-e5d2-e016-8bd2558ca200   16.0\n",
      "1001  569c57ce-42d4-b5c8-8349-fdc8fa5b9549   20.0\n",
      "2052  6f7386bf-c22d-0df5-b8db-9c18d79ae1fd   14.0\n",
      "3437  9a6af289-d042-e570-a020-664d160376a4   18.0\n",
      "9182  3aefa9e4-9987-2e92-acae-922d12678589   11.0\n"
     ]
    }
   ],
   "source": [
    "print(phq9_filtered['PATIENT'].nunique())  \n",
    "print(phq9_filtered[['PATIENT', 'VALUE']].head())  \n"
   ]
  },
  {
   "cell_type": "code",
   "execution_count": 39,
   "id": "156a2f5e-c93c-4834-a157-dbf6b1439b8a",
   "metadata": {},
   "outputs": [
    {
     "name": "stdout",
     "output_type": "stream",
     "text": [
      "                                   PATIENT  \\\n",
      "18    5de95068-9fc0-e5d2-e016-8bd2558ca200   \n",
      "91    569c57ce-42d4-b5c8-8349-fdc8fa5b9549   \n",
      "154   6f7386bf-c22d-0df5-b8db-9c18d79ae1fd   \n",
      "305   9a6af289-d042-e570-a020-664d160376a4   \n",
      "329   3aefa9e4-9987-2e92-acae-922d12678589   \n",
      "728   c479f197-aaa4-80f8-c43e-d45f16be2a0e   \n",
      "992   e58b5a1a-66c8-fa65-640b-f7d432b1269c   \n",
      "1291  8eafa16e-df81-51d1-99b1-a0c2136d1dcf   \n",
      "1697  81272453-6ac1-9d1f-9126-544e03b8172f   \n",
      "2026  a5f278fd-b157-1139-ef77-4f06d0ca2ee5   \n",
      "2173  bb6074a0-108f-e71f-140f-d25150769392   \n",
      "2565  cf324c53-73dd-c23d-f541-7255b7960da0   \n",
      "3119  69cc87da-08cb-9ecb-ddc7-2e2f9d304cdf   \n",
      "3306  a8f6edcb-0c9a-95e5-c045-e52e834a5ee5   \n",
      "3401  548a7bf8-b124-588b-8a53-0caf2534f4e3   \n",
      "\n",
      "                                            DESCRIPTION  \n",
      "18              educated to high school level (finding)  \n",
      "91                         chronic sinusitis (disorder)  \n",
      "154             educated to high school level (finding)  \n",
      "305                 received higher education (finding)  \n",
      "329             educated to high school level (finding)  \n",
      "728                 received higher education (finding)  \n",
      "992                        atopic dermatitis (disorder)  \n",
      "1291                       chronic sinusitis (disorder)  \n",
      "1697                received higher education (finding)  \n",
      "2026                       chronic sinusitis (disorder)  \n",
      "2173                   housing unsatisfactory (finding)  \n",
      "2565                  medication review due (situation)  \n",
      "3119            educated to high school level (finding)  \n",
      "3306                       chronic sinusitis (disorder)  \n",
      "3401  past pregnancy history of miscarriage (situation)  \n",
      "\n",
      "Number of unique patients: 15\n"
     ]
    }
   ],
   "source": [
    "patients_with_high_phq9 = phq9_filtered['PATIENT'].unique()\n",
    "\n",
    "diagnoses = conditions[\n",
    "    (conditions['PATIENT'].isin(patients_with_high_phq9))\n",
    "][['PATIENT', 'DESCRIPTION']]\n",
    "\n",
    "diagnoses_unique = diagnoses.drop_duplicates(subset=['PATIENT'], keep='first')\n",
    "\n",
    "print(diagnoses_unique)\n",
    "print(\"\\nNumber of unique patients:\", len(diagnoses_unique))"
   ]
  },
  {
   "cell_type": "code",
   "execution_count": 1,
   "id": "f268f719-65e5-4001-b753-7912dc871b3e",
   "metadata": {},
   "outputs": [
    {
     "name": "stdout",
     "output_type": "stream",
     "text": [
      "Collecting dash\n",
      "  Downloading dash-2.18.2-py3-none-any.whl.metadata (10 kB)\n",
      "Requirement already satisfied: pandas in /opt/anaconda3/lib/python3.12/site-packages (2.2.2)\n",
      "Requirement already satisfied: plotly in /opt/anaconda3/lib/python3.12/site-packages (5.22.0)\n",
      "Requirement already satisfied: Flask<3.1,>=1.0.4 in /opt/anaconda3/lib/python3.12/site-packages (from dash) (3.0.3)\n",
      "Requirement already satisfied: Werkzeug<3.1 in /opt/anaconda3/lib/python3.12/site-packages (from dash) (3.0.3)\n",
      "Collecting dash-html-components==2.0.0 (from dash)\n",
      "  Downloading dash_html_components-2.0.0-py3-none-any.whl.metadata (3.8 kB)\n",
      "Collecting dash-core-components==2.0.0 (from dash)\n",
      "  Downloading dash_core_components-2.0.0-py3-none-any.whl.metadata (2.9 kB)\n",
      "Collecting dash-table==5.0.0 (from dash)\n",
      "  Downloading dash_table-5.0.0-py3-none-any.whl.metadata (2.4 kB)\n",
      "Requirement already satisfied: importlib-metadata in /opt/anaconda3/lib/python3.12/site-packages (from dash) (7.0.1)\n",
      "Requirement already satisfied: typing-extensions>=4.1.1 in /opt/anaconda3/lib/python3.12/site-packages (from dash) (4.11.0)\n",
      "Requirement already satisfied: requests in /opt/anaconda3/lib/python3.12/site-packages (from dash) (2.32.2)\n",
      "Collecting retrying (from dash)\n",
      "  Downloading retrying-1.3.4-py3-none-any.whl.metadata (6.9 kB)\n",
      "Requirement already satisfied: nest-asyncio in /opt/anaconda3/lib/python3.12/site-packages (from dash) (1.6.0)\n",
      "Requirement already satisfied: setuptools in /opt/anaconda3/lib/python3.12/site-packages (from dash) (69.5.1)\n",
      "Requirement already satisfied: numpy>=1.26.0 in /opt/anaconda3/lib/python3.12/site-packages (from pandas) (1.26.4)\n",
      "Requirement already satisfied: python-dateutil>=2.8.2 in /opt/anaconda3/lib/python3.12/site-packages (from pandas) (2.9.0.post0)\n",
      "Requirement already satisfied: pytz>=2020.1 in /opt/anaconda3/lib/python3.12/site-packages (from pandas) (2024.1)\n",
      "Requirement already satisfied: tzdata>=2022.7 in /opt/anaconda3/lib/python3.12/site-packages (from pandas) (2023.3)\n",
      "Requirement already satisfied: tenacity>=6.2.0 in /opt/anaconda3/lib/python3.12/site-packages (from plotly) (8.2.2)\n",
      "Requirement already satisfied: packaging in /opt/anaconda3/lib/python3.12/site-packages (from plotly) (23.2)\n",
      "Requirement already satisfied: Jinja2>=3.1.2 in /opt/anaconda3/lib/python3.12/site-packages (from Flask<3.1,>=1.0.4->dash) (3.1.4)\n",
      "Requirement already satisfied: itsdangerous>=2.1.2 in /opt/anaconda3/lib/python3.12/site-packages (from Flask<3.1,>=1.0.4->dash) (2.2.0)\n",
      "Requirement already satisfied: click>=8.1.3 in /opt/anaconda3/lib/python3.12/site-packages (from Flask<3.1,>=1.0.4->dash) (8.1.7)\n",
      "Requirement already satisfied: blinker>=1.6.2 in /opt/anaconda3/lib/python3.12/site-packages (from Flask<3.1,>=1.0.4->dash) (1.6.2)\n",
      "Requirement already satisfied: six>=1.5 in /opt/anaconda3/lib/python3.12/site-packages (from python-dateutil>=2.8.2->pandas) (1.16.0)\n",
      "Requirement already satisfied: MarkupSafe>=2.1.1 in /opt/anaconda3/lib/python3.12/site-packages (from Werkzeug<3.1->dash) (2.1.3)\n",
      "Requirement already satisfied: zipp>=0.5 in /opt/anaconda3/lib/python3.12/site-packages (from importlib-metadata->dash) (3.17.0)\n",
      "Requirement already satisfied: charset-normalizer<4,>=2 in /opt/anaconda3/lib/python3.12/site-packages (from requests->dash) (2.0.4)\n",
      "Requirement already satisfied: idna<4,>=2.5 in /opt/anaconda3/lib/python3.12/site-packages (from requests->dash) (3.7)\n",
      "Requirement already satisfied: urllib3<3,>=1.21.1 in /opt/anaconda3/lib/python3.12/site-packages (from requests->dash) (2.2.2)\n",
      "Requirement already satisfied: certifi>=2017.4.17 in /opt/anaconda3/lib/python3.12/site-packages (from requests->dash) (2024.7.4)\n",
      "Downloading dash-2.18.2-py3-none-any.whl (7.8 MB)\n",
      "\u001b[2K   \u001b[90m━━━━━━━━━━━━━━━━━━━━━━━━━━━━━━━━━━━━━━━━\u001b[0m \u001b[32m7.8/7.8 MB\u001b[0m \u001b[31m20.5 MB/s\u001b[0m eta \u001b[36m0:00:00\u001b[0m00:01\u001b[0m00:01\u001b[0m\n",
      "\u001b[?25hDownloading dash_core_components-2.0.0-py3-none-any.whl (3.8 kB)\n",
      "Downloading dash_html_components-2.0.0-py3-none-any.whl (4.1 kB)\n",
      "Downloading dash_table-5.0.0-py3-none-any.whl (3.9 kB)\n",
      "Downloading retrying-1.3.4-py3-none-any.whl (11 kB)\n",
      "Installing collected packages: dash-table, dash-html-components, dash-core-components, retrying, dash\n",
      "Successfully installed dash-2.18.2 dash-core-components-2.0.0 dash-html-components-2.0.0 dash-table-5.0.0 retrying-1.3.4\n",
      "Note: you may need to restart the kernel to use updated packages.\n"
     ]
    }
   ],
   "source": [
    "pip install dash pandas plotly"
   ]
  },
  {
   "cell_type": "code",
   "execution_count": 65,
   "id": "a48c6a2d-82c6-4197-ade7-e88433b103f8",
   "metadata": {},
   "outputs": [
    {
     "name": "stderr",
     "output_type": "stream",
     "text": [
      "/var/folders/bf/qsgp03n57c7ct29vpyd3hf9h0000gn/T/ipykernel_37107/617831103.py:22: SettingWithCopyWarning:\n",
      "\n",
      "\n",
      "A value is trying to be set on a copy of a slice from a DataFrame.\n",
      "Try using .loc[row_indexer,col_indexer] = value instead\n",
      "\n",
      "See the caveats in the documentation: https://pandas.pydata.org/pandas-docs/stable/user_guide/indexing.html#returning-a-view-versus-a-copy\n",
      "\n"
     ]
    },
    {
     "data": {
      "text/html": [
       "\n",
       "        <iframe\n",
       "            width=\"100%\"\n",
       "            height=\"650\"\n",
       "            src=\"http://127.0.0.1:8050/\"\n",
       "            frameborder=\"0\"\n",
       "            allowfullscreen\n",
       "            \n",
       "        ></iframe>\n",
       "        "
      ],
      "text/plain": [
       "<IPython.lib.display.IFrame at 0x15e289c10>"
      ]
     },
     "metadata": {},
     "output_type": "display_data"
    }
   ],
   "source": [
    "\n",
    "patients = pd.read_csv('patients.csv')\n",
    "conditions = pd.read_csv('conditions.csv')\n",
    "observations = pd.read_csv('observations.csv')\n",
    "\n",
    "patients['BIRTHDATE'] = pd.to_datetime(patients['BIRTHDATE'])\n",
    "patients['AGE'] = pd.to_datetime('today').year - patients['BIRTHDATE'].dt.year\n",
    "age_bins = [0, 10, 18, 64, float('inf')]\n",
    "age_labels = ['0-10', '11-18', '19-64', '65+']\n",
    "patients['AGE_GROUP'] = pd.cut(patients['AGE'], bins=age_bins, labels=age_labels, right=False)\n",
    "\n",
    "conditions['DESCRIPTION'] = conditions['DESCRIPTION'].str.lower()\n",
    "psychiatric_conditions = [\n",
    "    'depression', 'anxiety', 'schizophrenia', 'severe anxiety', 'panic',\n",
    "    'misuses drugs', 'opioid abuse', 'unhealthy alcohol drinking behavior',\n",
    "    'dependent drug abuse', 'drug overdose'\n",
    "]\n",
    "psychiatric_patients = conditions[conditions['DESCRIPTION'].str.contains('|'.join(psychiatric_conditions), na=False)]\n",
    "psychiatric_patient_count = psychiatric_patients['PATIENT'].nunique()\n",
    "total_patient_count = conditions['PATIENT'].nunique()\n",
    "\n",
    "phq9_data = observations[observations['DESCRIPTION'].str.contains('PHQ-9', case=False, na=False)]\n",
    "phq9_data['VALUE'] = pd.to_numeric(phq9_data['VALUE'], errors='coerce')\n",
    "phq9_filtered = phq9_data[phq9_data['VALUE'] > 10]\n",
    "patients_with_high_phq9 = phq9_filtered['PATIENT'].unique()\n",
    "\n",
    "diagnoses = conditions[conditions['PATIENT'].isin(patients_with_high_phq9)]\n",
    "diagnoses_unique = diagnoses.drop_duplicates(subset=['PATIENT'], keep='first')\n",
    "\n",
    "diagnosis_counts = diagnoses_unique.groupby('DESCRIPTION').size().reset_index(name='COUNT')\n",
    "\n",
    "app = dash.Dash(__name__)\n",
    "\n",
    "app.layout = html.Div([\n",
    "    html.H1(\"Synthea Health Data Dashboard\", style={'text-align': 'center'}),\n",
    "    \n",
    "    # Age Group Distribution\n",
    "    html.H2(\"Age Group Distribution\"),\n",
    "    dcc.Graph(id='age-group-dist'),\n",
    "    \n",
    "    # Psychiatric Diagnoses Proportion\n",
    "    html.H2(\"Proportion of Psychiatric Diagnoses\"),\n",
    "    dcc.Graph(id='psychiatric-proportion'),\n",
    "    \n",
    "    # PHQ-9 Comparison\n",
    "    html.H2(\"PHQ-9 Score Analysis\"),\n",
    "    dcc.Graph(id='phq9-comparison'),\n",
    "    \n",
    "    # Psychiatric Diagnoses Table\n",
    "    html.H2(\"Patients with High PHQ-9 Scores and Their Diagnoses\"),\n",
    "    dcc.Graph(id='phq9-diagnoses-table'),\n",
    "])\n",
    "\n",
    "@app.callback(\n",
    "    [Output('age-group-dist', 'figure'),\n",
    "     Output('psychiatric-proportion', 'figure'),\n",
    "     Output('phq9-comparison', 'figure'),\n",
    "     Output('phq9-diagnoses-table', 'figure')],\n",
    "    Input('age-group-dist', 'id')  # Dummy input to trigger callbacks\n",
    ")\n",
    "def update_dashboard(_):\n",
    "    # Age Group Distribution\n",
    "    age_fig = px.histogram(\n",
    "        patients, x='AGE_GROUP', title=\"Age Group Distribution\",\n",
    "        labels={'AGE_GROUP': 'Age Group', 'count': 'Number of Patients'},\n",
    "        color_discrete_sequence=['#636EFA']\n",
    "    )\n",
    "\n",
    "    # Psychiatric Diagnoses Proportion\n",
    "    psychiatric_fig = px.pie(\n",
    "        names=['Psychiatric Diagnoses', 'No Psychiatric Diagnoses'],\n",
    "        values=[psychiatric_patient_count, total_patient_count - psychiatric_patient_count],\n",
    "        title=\"Proportion of Patients with Psychiatric Diagnoses\",\n",
    "        color_discrete_sequence=['#FF9999', '#66B3FF']\n",
    "    )\n",
    "\n",
    "    # PHQ-9 Score Comparison\n",
    "    total_phq9_patients = phq9_data['PATIENT'].nunique()\n",
    "    patients_phq9_greater_than_10 = phq9_filtered['PATIENT'].nunique()\n",
    "    phq9_fig = px.bar(\n",
    "        x=['Total PHQ-9 Patients', 'PHQ-9 > 10 Patients'],\n",
    "        y=[total_phq9_patients, patients_phq9_greater_than_10],\n",
    "        labels={'x': 'Category', 'y': 'Number of Patients'},\n",
    "        title=\"Comparison of PHQ-9 Scores\"\n",
    "    )\n",
    "\n",
    "    # Psychiatric Diagnoses Table (Fixed)\n",
    "    diagnoses_table = px.bar(\n",
    "        diagnosis_counts,\n",
    "        x='DESCRIPTION',\n",
    "        y='COUNT',\n",
    "        title=\"Diagnoses for Patients with High PHQ-9 Scores\",\n",
    "        labels={'DESCRIPTION': 'Diagnosis', 'COUNT': 'Patient Count'},\n",
    "        color_discrete_sequence=['#636EFA']\n",
    "    )\n",
    "\n",
    "    return age_fig, psychiatric_fig, phq9_fig, diagnoses_table\n",
    "\n",
    "if __name__ == '__main__':\n",
    "    app.run_server(debug=True)\n"
   ]
  },
  {
   "cell_type": "code",
   "execution_count": 53,
   "id": "67e3d02c-662a-4403-b4ee-6fdfc782be26",
   "metadata": {},
   "outputs": [
    {
     "name": "stdout",
     "output_type": "stream",
     "text": [
      "Number of patients with specific psychiatric diagnoses: 13\n",
      "Proportion of patients with specific psychiatric diagnoses: 0.12\n"
     ]
    }
   ],
   "source": [
    "specific_conditions = ['depression', 'schizophrenia', 'anxiety', 'severe anxiety']\n",
    "\n",
    "specific_psychiatric_patients = conditions[conditions['DESCRIPTION'].str.contains('|'.join(specific_conditions), na=False)]\n",
    "\n",
    "specific_psychiatric_patient_count = specific_psychiatric_patients['PATIENT'].nunique()\n",
    "\n",
    "total_patient_count = conditions['PATIENT'].nunique()\n",
    "\n",
    "proportion_specific_psychiatric_patients = specific_psychiatric_patient_count / total_patient_count\n",
    "\n",
    "print(f\"Number of patients with specific psychiatric diagnoses: {specific_psychiatric_patient_count}\")\n",
    "print(f\"Proportion of patients with specific psychiatric diagnoses: {proportion_specific_psychiatric_patients:.2f}\")\n"
   ]
  },
  {
   "cell_type": "code",
   "execution_count": 57,
   "id": "addd1ba8-50ee-4ad0-b1bd-315cf8d6c92f",
   "metadata": {},
   "outputs": [
    {
     "name": "stdout",
     "output_type": "stream",
     "text": [
      "Number of patients with depression: 0\n",
      "Number of patients with schizophrenia: 0\n",
      "Number of patients with severe anxiety: 13\n"
     ]
    }
   ],
   "source": [
    "specific_conditions = {\n",
    "    'depression': 'depression',\n",
    "    'schizophrenia': 'schizophrenia',\n",
    "    'severe anxiety': 'severe anxiety'\n",
    "}\n",
    "\n",
    "condition_counts = {}\n",
    "\n",
    "conditions['DESCRIPTION'] = conditions['DESCRIPTION'].str.lower()\n",
    "\n",
    "for condition_name, keyword in specific_conditions.items():\n",
    "    condition_patients = conditions[conditions['DESCRIPTION'].str.contains(keyword, na=False)]\n",
    "    condition_counts[condition_name] = condition_patients['PATIENT'].nunique()\n",
    "\n",
    "for condition, count in condition_counts.items():\n",
    "    print(f\"Number of patients with {condition}: {count}\")\n"
   ]
  },
  {
   "cell_type": "code",
   "execution_count": 73,
   "id": "7f0990fa-bb99-47ee-aa68-909b401242cb",
   "metadata": {},
   "outputs": [
    {
     "data": {
      "application/vnd.plotly.v1+json": {
       "config": {
        "plotlyServerURL": "https://plot.ly"
       },
       "data": [
        {
         "alignmentgroup": "True",
         "hovertemplate": "Psychiatric Diagnosis=%{x}<br>Number of Patients=%{y}<extra></extra>",
         "legendgroup": "depression",
         "marker": {
          "color": "rgb(102,194,165)",
          "pattern": {
           "shape": ""
          }
         },
         "name": "depression",
         "offsetgroup": "depression",
         "orientation": "v",
         "showlegend": true,
         "textposition": "auto",
         "type": "bar",
         "x": [
          "depression"
         ],
         "xaxis": "x",
         "y": [
          0
         ],
         "yaxis": "y"
        },
        {
         "alignmentgroup": "True",
         "hovertemplate": "Psychiatric Diagnosis=%{x}<br>Number of Patients=%{y}<extra></extra>",
         "legendgroup": "schizophrenia",
         "marker": {
          "color": "rgb(252,141,98)",
          "pattern": {
           "shape": ""
          }
         },
         "name": "schizophrenia",
         "offsetgroup": "schizophrenia",
         "orientation": "v",
         "showlegend": true,
         "textposition": "auto",
         "type": "bar",
         "x": [
          "schizophrenia"
         ],
         "xaxis": "x",
         "y": [
          0
         ],
         "yaxis": "y"
        },
        {
         "alignmentgroup": "True",
         "hovertemplate": "Psychiatric Diagnosis=%{x}<br>Number of Patients=%{y}<extra></extra>",
         "legendgroup": "anxiety",
         "marker": {
          "color": "rgb(141,160,203)",
          "pattern": {
           "shape": ""
          }
         },
         "name": "anxiety",
         "offsetgroup": "anxiety",
         "orientation": "v",
         "showlegend": true,
         "textposition": "auto",
         "type": "bar",
         "x": [
          "anxiety"
         ],
         "xaxis": "x",
         "y": [
          13
         ],
         "yaxis": "y"
        }
       ],
       "layout": {
        "autosize": true,
        "barmode": "relative",
        "legend": {
         "title": {
          "text": "Psychiatric Diagnosis"
         },
         "tracegroupgap": 0
        },
        "template": {
         "data": {
          "bar": [
           {
            "error_x": {
             "color": "#2a3f5f"
            },
            "error_y": {
             "color": "#2a3f5f"
            },
            "marker": {
             "line": {
              "color": "#E5ECF6",
              "width": 0.5
             },
             "pattern": {
              "fillmode": "overlay",
              "size": 10,
              "solidity": 0.2
             }
            },
            "type": "bar"
           }
          ],
          "barpolar": [
           {
            "marker": {
             "line": {
              "color": "#E5ECF6",
              "width": 0.5
             },
             "pattern": {
              "fillmode": "overlay",
              "size": 10,
              "solidity": 0.2
             }
            },
            "type": "barpolar"
           }
          ],
          "carpet": [
           {
            "aaxis": {
             "endlinecolor": "#2a3f5f",
             "gridcolor": "white",
             "linecolor": "white",
             "minorgridcolor": "white",
             "startlinecolor": "#2a3f5f"
            },
            "baxis": {
             "endlinecolor": "#2a3f5f",
             "gridcolor": "white",
             "linecolor": "white",
             "minorgridcolor": "white",
             "startlinecolor": "#2a3f5f"
            },
            "type": "carpet"
           }
          ],
          "choropleth": [
           {
            "colorbar": {
             "outlinewidth": 0,
             "ticks": ""
            },
            "type": "choropleth"
           }
          ],
          "contour": [
           {
            "colorbar": {
             "outlinewidth": 0,
             "ticks": ""
            },
            "colorscale": [
             [
              0,
              "#0d0887"
             ],
             [
              0.1111111111111111,
              "#46039f"
             ],
             [
              0.2222222222222222,
              "#7201a8"
             ],
             [
              0.3333333333333333,
              "#9c179e"
             ],
             [
              0.4444444444444444,
              "#bd3786"
             ],
             [
              0.5555555555555556,
              "#d8576b"
             ],
             [
              0.6666666666666666,
              "#ed7953"
             ],
             [
              0.7777777777777778,
              "#fb9f3a"
             ],
             [
              0.8888888888888888,
              "#fdca26"
             ],
             [
              1,
              "#f0f921"
             ]
            ],
            "type": "contour"
           }
          ],
          "contourcarpet": [
           {
            "colorbar": {
             "outlinewidth": 0,
             "ticks": ""
            },
            "type": "contourcarpet"
           }
          ],
          "heatmap": [
           {
            "colorbar": {
             "outlinewidth": 0,
             "ticks": ""
            },
            "colorscale": [
             [
              0,
              "#0d0887"
             ],
             [
              0.1111111111111111,
              "#46039f"
             ],
             [
              0.2222222222222222,
              "#7201a8"
             ],
             [
              0.3333333333333333,
              "#9c179e"
             ],
             [
              0.4444444444444444,
              "#bd3786"
             ],
             [
              0.5555555555555556,
              "#d8576b"
             ],
             [
              0.6666666666666666,
              "#ed7953"
             ],
             [
              0.7777777777777778,
              "#fb9f3a"
             ],
             [
              0.8888888888888888,
              "#fdca26"
             ],
             [
              1,
              "#f0f921"
             ]
            ],
            "type": "heatmap"
           }
          ],
          "heatmapgl": [
           {
            "colorbar": {
             "outlinewidth": 0,
             "ticks": ""
            },
            "colorscale": [
             [
              0,
              "#0d0887"
             ],
             [
              0.1111111111111111,
              "#46039f"
             ],
             [
              0.2222222222222222,
              "#7201a8"
             ],
             [
              0.3333333333333333,
              "#9c179e"
             ],
             [
              0.4444444444444444,
              "#bd3786"
             ],
             [
              0.5555555555555556,
              "#d8576b"
             ],
             [
              0.6666666666666666,
              "#ed7953"
             ],
             [
              0.7777777777777778,
              "#fb9f3a"
             ],
             [
              0.8888888888888888,
              "#fdca26"
             ],
             [
              1,
              "#f0f921"
             ]
            ],
            "type": "heatmapgl"
           }
          ],
          "histogram": [
           {
            "marker": {
             "pattern": {
              "fillmode": "overlay",
              "size": 10,
              "solidity": 0.2
             }
            },
            "type": "histogram"
           }
          ],
          "histogram2d": [
           {
            "colorbar": {
             "outlinewidth": 0,
             "ticks": ""
            },
            "colorscale": [
             [
              0,
              "#0d0887"
             ],
             [
              0.1111111111111111,
              "#46039f"
             ],
             [
              0.2222222222222222,
              "#7201a8"
             ],
             [
              0.3333333333333333,
              "#9c179e"
             ],
             [
              0.4444444444444444,
              "#bd3786"
             ],
             [
              0.5555555555555556,
              "#d8576b"
             ],
             [
              0.6666666666666666,
              "#ed7953"
             ],
             [
              0.7777777777777778,
              "#fb9f3a"
             ],
             [
              0.8888888888888888,
              "#fdca26"
             ],
             [
              1,
              "#f0f921"
             ]
            ],
            "type": "histogram2d"
           }
          ],
          "histogram2dcontour": [
           {
            "colorbar": {
             "outlinewidth": 0,
             "ticks": ""
            },
            "colorscale": [
             [
              0,
              "#0d0887"
             ],
             [
              0.1111111111111111,
              "#46039f"
             ],
             [
              0.2222222222222222,
              "#7201a8"
             ],
             [
              0.3333333333333333,
              "#9c179e"
             ],
             [
              0.4444444444444444,
              "#bd3786"
             ],
             [
              0.5555555555555556,
              "#d8576b"
             ],
             [
              0.6666666666666666,
              "#ed7953"
             ],
             [
              0.7777777777777778,
              "#fb9f3a"
             ],
             [
              0.8888888888888888,
              "#fdca26"
             ],
             [
              1,
              "#f0f921"
             ]
            ],
            "type": "histogram2dcontour"
           }
          ],
          "mesh3d": [
           {
            "colorbar": {
             "outlinewidth": 0,
             "ticks": ""
            },
            "type": "mesh3d"
           }
          ],
          "parcoords": [
           {
            "line": {
             "colorbar": {
              "outlinewidth": 0,
              "ticks": ""
             }
            },
            "type": "parcoords"
           }
          ],
          "pie": [
           {
            "automargin": true,
            "type": "pie"
           }
          ],
          "scatter": [
           {
            "fillpattern": {
             "fillmode": "overlay",
             "size": 10,
             "solidity": 0.2
            },
            "type": "scatter"
           }
          ],
          "scatter3d": [
           {
            "line": {
             "colorbar": {
              "outlinewidth": 0,
              "ticks": ""
             }
            },
            "marker": {
             "colorbar": {
              "outlinewidth": 0,
              "ticks": ""
             }
            },
            "type": "scatter3d"
           }
          ],
          "scattercarpet": [
           {
            "marker": {
             "colorbar": {
              "outlinewidth": 0,
              "ticks": ""
             }
            },
            "type": "scattercarpet"
           }
          ],
          "scattergeo": [
           {
            "marker": {
             "colorbar": {
              "outlinewidth": 0,
              "ticks": ""
             }
            },
            "type": "scattergeo"
           }
          ],
          "scattergl": [
           {
            "marker": {
             "colorbar": {
              "outlinewidth": 0,
              "ticks": ""
             }
            },
            "type": "scattergl"
           }
          ],
          "scattermapbox": [
           {
            "marker": {
             "colorbar": {
              "outlinewidth": 0,
              "ticks": ""
             }
            },
            "type": "scattermapbox"
           }
          ],
          "scatterpolar": [
           {
            "marker": {
             "colorbar": {
              "outlinewidth": 0,
              "ticks": ""
             }
            },
            "type": "scatterpolar"
           }
          ],
          "scatterpolargl": [
           {
            "marker": {
             "colorbar": {
              "outlinewidth": 0,
              "ticks": ""
             }
            },
            "type": "scatterpolargl"
           }
          ],
          "scatterternary": [
           {
            "marker": {
             "colorbar": {
              "outlinewidth": 0,
              "ticks": ""
             }
            },
            "type": "scatterternary"
           }
          ],
          "surface": [
           {
            "colorbar": {
             "outlinewidth": 0,
             "ticks": ""
            },
            "colorscale": [
             [
              0,
              "#0d0887"
             ],
             [
              0.1111111111111111,
              "#46039f"
             ],
             [
              0.2222222222222222,
              "#7201a8"
             ],
             [
              0.3333333333333333,
              "#9c179e"
             ],
             [
              0.4444444444444444,
              "#bd3786"
             ],
             [
              0.5555555555555556,
              "#d8576b"
             ],
             [
              0.6666666666666666,
              "#ed7953"
             ],
             [
              0.7777777777777778,
              "#fb9f3a"
             ],
             [
              0.8888888888888888,
              "#fdca26"
             ],
             [
              1,
              "#f0f921"
             ]
            ],
            "type": "surface"
           }
          ],
          "table": [
           {
            "cells": {
             "fill": {
              "color": "#EBF0F8"
             },
             "line": {
              "color": "white"
             }
            },
            "header": {
             "fill": {
              "color": "#C8D4E3"
             },
             "line": {
              "color": "white"
             }
            },
            "type": "table"
           }
          ]
         },
         "layout": {
          "annotationdefaults": {
           "arrowcolor": "#2a3f5f",
           "arrowhead": 0,
           "arrowwidth": 1
          },
          "autotypenumbers": "strict",
          "coloraxis": {
           "colorbar": {
            "outlinewidth": 0,
            "ticks": ""
           }
          },
          "colorscale": {
           "diverging": [
            [
             0,
             "#8e0152"
            ],
            [
             0.1,
             "#c51b7d"
            ],
            [
             0.2,
             "#de77ae"
            ],
            [
             0.3,
             "#f1b6da"
            ],
            [
             0.4,
             "#fde0ef"
            ],
            [
             0.5,
             "#f7f7f7"
            ],
            [
             0.6,
             "#e6f5d0"
            ],
            [
             0.7,
             "#b8e186"
            ],
            [
             0.8,
             "#7fbc41"
            ],
            [
             0.9,
             "#4d9221"
            ],
            [
             1,
             "#276419"
            ]
           ],
           "sequential": [
            [
             0,
             "#0d0887"
            ],
            [
             0.1111111111111111,
             "#46039f"
            ],
            [
             0.2222222222222222,
             "#7201a8"
            ],
            [
             0.3333333333333333,
             "#9c179e"
            ],
            [
             0.4444444444444444,
             "#bd3786"
            ],
            [
             0.5555555555555556,
             "#d8576b"
            ],
            [
             0.6666666666666666,
             "#ed7953"
            ],
            [
             0.7777777777777778,
             "#fb9f3a"
            ],
            [
             0.8888888888888888,
             "#fdca26"
            ],
            [
             1,
             "#f0f921"
            ]
           ],
           "sequentialminus": [
            [
             0,
             "#0d0887"
            ],
            [
             0.1111111111111111,
             "#46039f"
            ],
            [
             0.2222222222222222,
             "#7201a8"
            ],
            [
             0.3333333333333333,
             "#9c179e"
            ],
            [
             0.4444444444444444,
             "#bd3786"
            ],
            [
             0.5555555555555556,
             "#d8576b"
            ],
            [
             0.6666666666666666,
             "#ed7953"
            ],
            [
             0.7777777777777778,
             "#fb9f3a"
            ],
            [
             0.8888888888888888,
             "#fdca26"
            ],
            [
             1,
             "#f0f921"
            ]
           ]
          },
          "colorway": [
           "#636efa",
           "#EF553B",
           "#00cc96",
           "#ab63fa",
           "#FFA15A",
           "#19d3f3",
           "#FF6692",
           "#B6E880",
           "#FF97FF",
           "#FECB52"
          ],
          "font": {
           "color": "#2a3f5f"
          },
          "geo": {
           "bgcolor": "white",
           "lakecolor": "white",
           "landcolor": "#E5ECF6",
           "showlakes": true,
           "showland": true,
           "subunitcolor": "white"
          },
          "hoverlabel": {
           "align": "left"
          },
          "hovermode": "closest",
          "mapbox": {
           "style": "light"
          },
          "paper_bgcolor": "white",
          "plot_bgcolor": "#E5ECF6",
          "polar": {
           "angularaxis": {
            "gridcolor": "white",
            "linecolor": "white",
            "ticks": ""
           },
           "bgcolor": "#E5ECF6",
           "radialaxis": {
            "gridcolor": "white",
            "linecolor": "white",
            "ticks": ""
           }
          },
          "scene": {
           "xaxis": {
            "backgroundcolor": "#E5ECF6",
            "gridcolor": "white",
            "gridwidth": 2,
            "linecolor": "white",
            "showbackground": true,
            "ticks": "",
            "zerolinecolor": "white"
           },
           "yaxis": {
            "backgroundcolor": "#E5ECF6",
            "gridcolor": "white",
            "gridwidth": 2,
            "linecolor": "white",
            "showbackground": true,
            "ticks": "",
            "zerolinecolor": "white"
           },
           "zaxis": {
            "backgroundcolor": "#E5ECF6",
            "gridcolor": "white",
            "gridwidth": 2,
            "linecolor": "white",
            "showbackground": true,
            "ticks": "",
            "zerolinecolor": "white"
           }
          },
          "shapedefaults": {
           "line": {
            "color": "#2a3f5f"
           }
          },
          "ternary": {
           "aaxis": {
            "gridcolor": "white",
            "linecolor": "white",
            "ticks": ""
           },
           "baxis": {
            "gridcolor": "white",
            "linecolor": "white",
            "ticks": ""
           },
           "bgcolor": "#E5ECF6",
           "caxis": {
            "gridcolor": "white",
            "linecolor": "white",
            "ticks": ""
           }
          },
          "title": {
           "x": 0.05
          },
          "xaxis": {
           "automargin": true,
           "gridcolor": "white",
           "linecolor": "white",
           "ticks": "",
           "title": {
            "standoff": 15
           },
           "zerolinecolor": "white",
           "zerolinewidth": 2
          },
          "yaxis": {
           "automargin": true,
           "gridcolor": "white",
           "linecolor": "white",
           "ticks": "",
           "title": {
            "standoff": 15
           },
           "zerolinecolor": "white",
           "zerolinewidth": 2
          }
         }
        },
        "title": {
         "text": "Number of Patients with Specific Psychiatric Diagnoses"
        },
        "xaxis": {
         "anchor": "y",
         "autorange": true,
         "categoryarray": [
          "depression",
          "schizophrenia",
          "anxiety"
         ],
         "categoryorder": "array",
         "domain": [
          0,
          1
         ],
         "range": [
          -0.5,
          2.5
         ],
         "title": {
          "text": "Psychiatric Diagnosis"
         },
         "type": "category"
        },
        "yaxis": {
         "anchor": "x",
         "autorange": true,
         "domain": [
          0,
          1
         ],
         "range": [
          0,
          13.68421052631579
         ],
         "title": {
          "text": "Number of Patients"
         },
         "type": "linear"
        }
       }
      },
      "image/png": "[encoded data removed]",
      "text/html": [
       "<div>                            <div id=\"6f76d952-13e9-47ac-b5be-094245a34e92\" class=\"plotly-graph-div\" style=\"height:525px; width:100%;\"></div>            <script type=\"text/javascript\">                require([\"plotly\"], function(Plotly) {                    window.PLOTLYENV=window.PLOTLYENV || {};                                    if (document.getElementById(\"6f76d952-13e9-47ac-b5be-094245a34e92\")) {                    Plotly.newPlot(                        \"6f76d952-13e9-47ac-b5be-094245a34e92\",                        [{\"alignmentgroup\":\"True\",\"hovertemplate\":\"Psychiatric Diagnosis=%{x}\\u003cbr\\u003eNumber of Patients=%{y}\\u003cextra\\u003e\\u003c\\u002fextra\\u003e\",\"legendgroup\":\"depression\",\"marker\":{\"color\":\"rgb(102,194,165)\",\"pattern\":{\"shape\":\"\"}},\"name\":\"depression\",\"offsetgroup\":\"depression\",\"orientation\":\"v\",\"showlegend\":true,\"textposition\":\"auto\",\"x\":[\"depression\"],\"xaxis\":\"x\",\"y\":[0],\"yaxis\":\"y\",\"type\":\"bar\"},{\"alignmentgroup\":\"True\",\"hovertemplate\":\"Psychiatric Diagnosis=%{x}\\u003cbr\\u003eNumber of Patients=%{y}\\u003cextra\\u003e\\u003c\\u002fextra\\u003e\",\"legendgroup\":\"schizophrenia\",\"marker\":{\"color\":\"rgb(252,141,98)\",\"pattern\":{\"shape\":\"\"}},\"name\":\"schizophrenia\",\"offsetgroup\":\"schizophrenia\",\"orientation\":\"v\",\"showlegend\":true,\"textposition\":\"auto\",\"x\":[\"schizophrenia\"],\"xaxis\":\"x\",\"y\":[0],\"yaxis\":\"y\",\"type\":\"bar\"},{\"alignmentgroup\":\"True\",\"hovertemplate\":\"Psychiatric Diagnosis=%{x}\\u003cbr\\u003eNumber of Patients=%{y}\\u003cextra\\u003e\\u003c\\u002fextra\\u003e\",\"legendgroup\":\"anxiety\",\"marker\":{\"color\":\"rgb(141,160,203)\",\"pattern\":{\"shape\":\"\"}},\"name\":\"anxiety\",\"offsetgroup\":\"anxiety\",\"orientation\":\"v\",\"showlegend\":true,\"textposition\":\"auto\",\"x\":[\"anxiety\"],\"xaxis\":\"x\",\"y\":[13],\"yaxis\":\"y\",\"type\":\"bar\"}],                        {\"template\":{\"data\":{\"histogram2dcontour\":[{\"type\":\"histogram2dcontour\",\"colorbar\":{\"outlinewidth\":0,\"ticks\":\"\"},\"colorscale\":[[0.0,\"#0d0887\"],[0.1111111111111111,\"#46039f\"],[0.2222222222222222,\"#7201a8\"],[0.3333333333333333,\"#9c179e\"],[0.4444444444444444,\"#bd3786\"],[0.5555555555555556,\"#d8576b\"],[0.6666666666666666,\"#ed7953\"],[0.7777777777777778,\"#fb9f3a\"],[0.8888888888888888,\"#fdca26\"],[1.0,\"#f0f921\"]]}],\"choropleth\":[{\"type\":\"choropleth\",\"colorbar\":{\"outlinewidth\":0,\"ticks\":\"\"}}],\"histogram2d\":[{\"type\":\"histogram2d\",\"colorbar\":{\"outlinewidth\":0,\"ticks\":\"\"},\"colorscale\":[[0.0,\"#0d0887\"],[0.1111111111111111,\"#46039f\"],[0.2222222222222222,\"#7201a8\"],[0.3333333333333333,\"#9c179e\"],[0.4444444444444444,\"#bd3786\"],[0.5555555555555556,\"#d8576b\"],[0.6666666666666666,\"#ed7953\"],[0.7777777777777778,\"#fb9f3a\"],[0.8888888888888888,\"#fdca26\"],[1.0,\"#f0f921\"]]}],\"heatmap\":[{\"type\":\"heatmap\",\"colorbar\":{\"outlinewidth\":0,\"ticks\":\"\"},\"colorscale\":[[0.0,\"#0d0887\"],[0.1111111111111111,\"#46039f\"],[0.2222222222222222,\"#7201a8\"],[0.3333333333333333,\"#9c179e\"],[0.4444444444444444,\"#bd3786\"],[0.5555555555555556,\"#d8576b\"],[0.6666666666666666,\"#ed7953\"],[0.7777777777777778,\"#fb9f3a\"],[0.8888888888888888,\"#fdca26\"],[1.0,\"#f0f921\"]]}],\"heatmapgl\":[{\"type\":\"heatmapgl\",\"colorbar\":{\"outlinewidth\":0,\"ticks\":\"\"},\"colorscale\":[[0.0,\"#0d0887\"],[0.1111111111111111,\"#46039f\"],[0.2222222222222222,\"#7201a8\"],[0.3333333333333333,\"#9c179e\"],[0.4444444444444444,\"#bd3786\"],[0.5555555555555556,\"#d8576b\"],[0.6666666666666666,\"#ed7953\"],[0.7777777777777778,\"#fb9f3a\"],[0.8888888888888888,\"#fdca26\"],[1.0,\"#f0f921\"]]}],\"contourcarpet\":[{\"type\":\"contourcarpet\",\"colorbar\":{\"outlinewidth\":0,\"ticks\":\"\"}}],\"contour\":[{\"type\":\"contour\",\"colorbar\":{\"outlinewidth\":0,\"ticks\":\"\"},\"colorscale\":[[0.0,\"#0d0887\"],[0.1111111111111111,\"#46039f\"],[0.2222222222222222,\"#7201a8\"],[0.3333333333333333,\"#9c179e\"],[0.4444444444444444,\"#bd3786\"],[0.5555555555555556,\"#d8576b\"],[0.6666666666666666,\"#ed7953\"],[0.7777777777777778,\"#fb9f3a\"],[0.8888888888888888,\"#fdca26\"],[1.0,\"#f0f921\"]]}],\"surface\":[{\"type\":\"surface\",\"colorbar\":{\"outlinewidth\":0,\"ticks\":\"\"},\"colorscale\":[[0.0,\"#0d0887\"],[0.1111111111111111,\"#46039f\"],[0.2222222222222222,\"#7201a8\"],[0.3333333333333333,\"#9c179e\"],[0.4444444444444444,\"#bd3786\"],[0.5555555555555556,\"#d8576b\"],[0.6666666666666666,\"#ed7953\"],[0.7777777777777778,\"#fb9f3a\"],[0.8888888888888888,\"#fdca26\"],[1.0,\"#f0f921\"]]}],\"mesh3d\":[{\"type\":\"mesh3d\",\"colorbar\":{\"outlinewidth\":0,\"ticks\":\"\"}}],\"scatter\":[{\"fillpattern\":{\"fillmode\":\"overlay\",\"size\":10,\"solidity\":0.2},\"type\":\"scatter\"}],\"parcoords\":[{\"type\":\"parcoords\",\"line\":{\"colorbar\":{\"outlinewidth\":0,\"ticks\":\"\"}}}],\"scatterpolargl\":[{\"type\":\"scatterpolargl\",\"marker\":{\"colorbar\":{\"outlinewidth\":0,\"ticks\":\"\"}}}],\"bar\":[{\"error_x\":{\"color\":\"#2a3f5f\"},\"error_y\":{\"color\":\"#2a3f5f\"},\"marker\":{\"line\":{\"color\":\"#E5ECF6\",\"width\":0.5},\"pattern\":{\"fillmode\":\"overlay\",\"size\":10,\"solidity\":0.2}},\"type\":\"bar\"}],\"scattergeo\":[{\"type\":\"scattergeo\",\"marker\":{\"colorbar\":{\"outlinewidth\":0,\"ticks\":\"\"}}}],\"scatterpolar\":[{\"type\":\"scatterpolar\",\"marker\":{\"colorbar\":{\"outlinewidth\":0,\"ticks\":\"\"}}}],\"histogram\":[{\"marker\":{\"pattern\":{\"fillmode\":\"overlay\",\"size\":10,\"solidity\":0.2}},\"type\":\"histogram\"}],\"scattergl\":[{\"type\":\"scattergl\",\"marker\":{\"colorbar\":{\"outlinewidth\":0,\"ticks\":\"\"}}}],\"scatter3d\":[{\"type\":\"scatter3d\",\"line\":{\"colorbar\":{\"outlinewidth\":0,\"ticks\":\"\"}},\"marker\":{\"colorbar\":{\"outlinewidth\":0,\"ticks\":\"\"}}}],\"scattermapbox\":[{\"type\":\"scattermapbox\",\"marker\":{\"colorbar\":{\"outlinewidth\":0,\"ticks\":\"\"}}}],\"scatterternary\":[{\"type\":\"scatterternary\",\"marker\":{\"colorbar\":{\"outlinewidth\":0,\"ticks\":\"\"}}}],\"scattercarpet\":[{\"type\":\"scattercarpet\",\"marker\":{\"colorbar\":{\"outlinewidth\":0,\"ticks\":\"\"}}}],\"carpet\":[{\"aaxis\":{\"endlinecolor\":\"#2a3f5f\",\"gridcolor\":\"white\",\"linecolor\":\"white\",\"minorgridcolor\":\"white\",\"startlinecolor\":\"#2a3f5f\"},\"baxis\":{\"endlinecolor\":\"#2a3f5f\",\"gridcolor\":\"white\",\"linecolor\":\"white\",\"minorgridcolor\":\"white\",\"startlinecolor\":\"#2a3f5f\"},\"type\":\"carpet\"}],\"table\":[{\"cells\":{\"fill\":{\"color\":\"#EBF0F8\"},\"line\":{\"color\":\"white\"}},\"header\":{\"fill\":{\"color\":\"#C8D4E3\"},\"line\":{\"color\":\"white\"}},\"type\":\"table\"}],\"barpolar\":[{\"marker\":{\"line\":{\"color\":\"#E5ECF6\",\"width\":0.5},\"pattern\":{\"fillmode\":\"overlay\",\"size\":10,\"solidity\":0.2}},\"type\":\"barpolar\"}],\"pie\":[{\"automargin\":true,\"type\":\"pie\"}]},\"layout\":{\"autotypenumbers\":\"strict\",\"colorway\":[\"#636efa\",\"#EF553B\",\"#00cc96\",\"#ab63fa\",\"#FFA15A\",\"#19d3f3\",\"#FF6692\",\"#B6E880\",\"#FF97FF\",\"#FECB52\"],\"font\":{\"color\":\"#2a3f5f\"},\"hovermode\":\"closest\",\"hoverlabel\":{\"align\":\"left\"},\"paper_bgcolor\":\"white\",\"plot_bgcolor\":\"#E5ECF6\",\"polar\":{\"bgcolor\":\"#E5ECF6\",\"angularaxis\":{\"gridcolor\":\"white\",\"linecolor\":\"white\",\"ticks\":\"\"},\"radialaxis\":{\"gridcolor\":\"white\",\"linecolor\":\"white\",\"ticks\":\"\"}},\"ternary\":{\"bgcolor\":\"#E5ECF6\",\"aaxis\":{\"gridcolor\":\"white\",\"linecolor\":\"white\",\"ticks\":\"\"},\"baxis\":{\"gridcolor\":\"white\",\"linecolor\":\"white\",\"ticks\":\"\"},\"caxis\":{\"gridcolor\":\"white\",\"linecolor\":\"white\",\"ticks\":\"\"}},\"coloraxis\":{\"colorbar\":{\"outlinewidth\":0,\"ticks\":\"\"}},\"colorscale\":{\"sequential\":[[0.0,\"#0d0887\"],[0.1111111111111111,\"#46039f\"],[0.2222222222222222,\"#7201a8\"],[0.3333333333333333,\"#9c179e\"],[0.4444444444444444,\"#bd3786\"],[0.5555555555555556,\"#d8576b\"],[0.6666666666666666,\"#ed7953\"],[0.7777777777777778,\"#fb9f3a\"],[0.8888888888888888,\"#fdca26\"],[1.0,\"#f0f921\"]],\"sequentialminus\":[[0.0,\"#0d0887\"],[0.1111111111111111,\"#46039f\"],[0.2222222222222222,\"#7201a8\"],[0.3333333333333333,\"#9c179e\"],[0.4444444444444444,\"#bd3786\"],[0.5555555555555556,\"#d8576b\"],[0.6666666666666666,\"#ed7953\"],[0.7777777777777778,\"#fb9f3a\"],[0.8888888888888888,\"#fdca26\"],[1.0,\"#f0f921\"]],\"diverging\":[[0,\"#8e0152\"],[0.1,\"#c51b7d\"],[0.2,\"#de77ae\"],[0.3,\"#f1b6da\"],[0.4,\"#fde0ef\"],[0.5,\"#f7f7f7\"],[0.6,\"#e6f5d0\"],[0.7,\"#b8e186\"],[0.8,\"#7fbc41\"],[0.9,\"#4d9221\"],[1,\"#276419\"]]},\"xaxis\":{\"gridcolor\":\"white\",\"linecolor\":\"white\",\"ticks\":\"\",\"title\":{\"standoff\":15},\"zerolinecolor\":\"white\",\"automargin\":true,\"zerolinewidth\":2},\"yaxis\":{\"gridcolor\":\"white\",\"linecolor\":\"white\",\"ticks\":\"\",\"title\":{\"standoff\":15},\"zerolinecolor\":\"white\",\"automargin\":true,\"zerolinewidth\":2},\"scene\":{\"xaxis\":{\"backgroundcolor\":\"#E5ECF6\",\"gridcolor\":\"white\",\"linecolor\":\"white\",\"showbackground\":true,\"ticks\":\"\",\"zerolinecolor\":\"white\",\"gridwidth\":2},\"yaxis\":{\"backgroundcolor\":\"#E5ECF6\",\"gridcolor\":\"white\",\"linecolor\":\"white\",\"showbackground\":true,\"ticks\":\"\",\"zerolinecolor\":\"white\",\"gridwidth\":2},\"zaxis\":{\"backgroundcolor\":\"#E5ECF6\",\"gridcolor\":\"white\",\"linecolor\":\"white\",\"showbackground\":true,\"ticks\":\"\",\"zerolinecolor\":\"white\",\"gridwidth\":2}},\"shapedefaults\":{\"line\":{\"color\":\"#2a3f5f\"}},\"annotationdefaults\":{\"arrowcolor\":\"#2a3f5f\",\"arrowhead\":0,\"arrowwidth\":1},\"geo\":{\"bgcolor\":\"white\",\"landcolor\":\"#E5ECF6\",\"subunitcolor\":\"white\",\"showland\":true,\"showlakes\":true,\"lakecolor\":\"white\"},\"title\":{\"x\":0.05},\"mapbox\":{\"style\":\"light\"}}},\"xaxis\":{\"anchor\":\"y\",\"domain\":[0.0,1.0],\"title\":{\"text\":\"Psychiatric Diagnosis\"},\"categoryorder\":\"array\",\"categoryarray\":[\"depression\",\"schizophrenia\",\"anxiety\"]},\"yaxis\":{\"anchor\":\"x\",\"domain\":[0.0,1.0],\"title\":{\"text\":\"Number of Patients\"}},\"legend\":{\"title\":{\"text\":\"Psychiatric Diagnosis\"},\"tracegroupgap\":0},\"title\":{\"text\":\"Number of Patients with Specific Psychiatric Diagnoses\"},\"barmode\":\"relative\"},                        {\"responsive\": true}                    ).then(function(){\n",
       "                            \n",
       "var gd = document.getElementById('6f76d952-13e9-47ac-b5be-094245a34e92');\n",
       "var x = new MutationObserver(function (mutations, observer) {{\n",
       "        var display = window.getComputedStyle(gd).display;\n",
       "        if (!display || display === 'none') {{\n",
       "            console.log([gd, 'removed!']);\n",
       "            Plotly.purge(gd);\n",
       "            observer.disconnect();\n",
       "        }}\n",
       "}});\n",
       "\n",
       "// Listen for the removal of the full notebook cells\n",
       "var notebookContainer = gd.closest('#notebook-container');\n",
       "if (notebookContainer) {{\n",
       "    x.observe(notebookContainer, {childList: true});\n",
       "}}\n",
       "\n",
       "// Listen for the clearing of the current output cell\n",
       "var outputEl = gd.closest('.output');\n",
       "if (outputEl) {{\n",
       "    x.observe(outputEl, {childList: true});\n",
       "}}\n",
       "\n",
       "                        })                };                });            </script>        </div>"
      ]
     },
     "metadata": {},
     "output_type": "display_data"
    }
   ],
   "source": [
    "diagnoses = ['depression', 'schizophrenia', 'anxiety']\n",
    "counts = [\n",
    "    specific_psychiatric_patients[specific_psychiatric_patients['DESCRIPTION'].str.contains('depression', na=False)]['PATIENT'].nunique(),\n",
    "    specific_psychiatric_patients[specific_psychiatric_patients['DESCRIPTION'].str.contains('schizophrenia', na=False)]['PATIENT'].nunique(),\n",
    "    specific_psychiatric_patients[specific_psychiatric_patients['DESCRIPTION'].str.contains('anxiety', na=False)]['PATIENT'].nunique(),\n",
    "]\n",
    "\n",
    "# Create a DataFrame for visualization\n",
    "df = pd.DataFrame({'Diagnosis': diagnoses, 'Patient Count': counts})\n",
    "\n",
    "# Plot a bar chart\n",
    "fig = px.bar(df, x='Diagnosis', y='Patient Count', \n",
    "             title='Number of Patients with Specific Psychiatric Diagnoses',\n",
    "             labels={'Diagnosis': 'Psychiatric Diagnosis', 'Patient Count': 'Number of Patients'},\n",
    "             color='Diagnosis', color_discrete_sequence=px.colors.qualitative.Set2)\n",
    "\n",
    "fig.show()\n"
   ]
  },
  {
   "cell_type": "code",
   "execution_count": 71,
   "id": "4e7af5a2-7c8d-4269-bb0f-125ae25fdd3c",
   "metadata": {},
   "outputs": [
    {
     "data": {
      "application/vnd.plotly.v1+json": {
       "config": {
        "plotlyServerURL": "https://plot.ly"
       },
       "data": [
        {
         "customdata": [
          [
           "Specific Psychiatric Diagnoses"
          ],
          [
           "Other Diagnoses"
          ]
         ],
         "domain": {
          "x": [
           0,
           1
          ],
          "y": [
           0,
           1
          ]
         },
         "hovertemplate": "label=%{label}<br>value=%{value}<br>color=%{customdata[0]}<extra></extra>",
         "labels": [
          "Specific Psychiatric Diagnoses",
          "Other Diagnoses"
         ],
         "legendgroup": "",
         "marker": {
          "colors": [
           "#FF9999",
           "#66B3FF"
          ]
         },
         "name": "",
         "showlegend": true,
         "type": "pie",
         "values": [
          13,
          96
         ]
        }
       ],
       "layout": {
        "autosize": true,
        "legend": {
         "tracegroupgap": 0
        },
        "template": {
         "data": {
          "bar": [
           {
            "error_x": {
             "color": "#2a3f5f"
            },
            "error_y": {
             "color": "#2a3f5f"
            },
            "marker": {
             "line": {
              "color": "#E5ECF6",
              "width": 0.5
             },
             "pattern": {
              "fillmode": "overlay",
              "size": 10,
              "solidity": 0.2
             }
            },
            "type": "bar"
           }
          ],
          "barpolar": [
           {
            "marker": {
             "line": {
              "color": "#E5ECF6",
              "width": 0.5
             },
             "pattern": {
              "fillmode": "overlay",
              "size": 10,
              "solidity": 0.2
             }
            },
            "type": "barpolar"
           }
          ],
          "carpet": [
           {
            "aaxis": {
             "endlinecolor": "#2a3f5f",
             "gridcolor": "white",
             "linecolor": "white",
             "minorgridcolor": "white",
             "startlinecolor": "#2a3f5f"
            },
            "baxis": {
             "endlinecolor": "#2a3f5f",
             "gridcolor": "white",
             "linecolor": "white",
             "minorgridcolor": "white",
             "startlinecolor": "#2a3f5f"
            },
            "type": "carpet"
           }
          ],
          "choropleth": [
           {
            "colorbar": {
             "outlinewidth": 0,
             "ticks": ""
            },
            "type": "choropleth"
           }
          ],
          "contour": [
           {
            "colorbar": {
             "outlinewidth": 0,
             "ticks": ""
            },
            "colorscale": [
             [
              0,
              "#0d0887"
             ],
             [
              0.1111111111111111,
              "#46039f"
             ],
             [
              0.2222222222222222,
              "#7201a8"
             ],
             [
              0.3333333333333333,
              "#9c179e"
             ],
             [
              0.4444444444444444,
              "#bd3786"
             ],
             [
              0.5555555555555556,
              "#d8576b"
             ],
             [
              0.6666666666666666,
              "#ed7953"
             ],
             [
              0.7777777777777778,
              "#fb9f3a"
             ],
             [
              0.8888888888888888,
              "#fdca26"
             ],
             [
              1,
              "#f0f921"
             ]
            ],
            "type": "contour"
           }
          ],
          "contourcarpet": [
           {
            "colorbar": {
             "outlinewidth": 0,
             "ticks": ""
            },
            "type": "contourcarpet"
           }
          ],
          "heatmap": [
           {
            "colorbar": {
             "outlinewidth": 0,
             "ticks": ""
            },
            "colorscale": [
             [
              0,
              "#0d0887"
             ],
             [
              0.1111111111111111,
              "#46039f"
             ],
             [
              0.2222222222222222,
              "#7201a8"
             ],
             [
              0.3333333333333333,
              "#9c179e"
             ],
             [
              0.4444444444444444,
              "#bd3786"
             ],
             [
              0.5555555555555556,
              "#d8576b"
             ],
             [
              0.6666666666666666,
              "#ed7953"
             ],
             [
              0.7777777777777778,
              "#fb9f3a"
             ],
             [
              0.8888888888888888,
              "#fdca26"
             ],
             [
              1,
              "#f0f921"
             ]
            ],
            "type": "heatmap"
           }
          ],
          "heatmapgl": [
           {
            "colorbar": {
             "outlinewidth": 0,
             "ticks": ""
            },
            "colorscale": [
             [
              0,
              "#0d0887"
             ],
             [
              0.1111111111111111,
              "#46039f"
             ],
             [
              0.2222222222222222,
              "#7201a8"
             ],
             [
              0.3333333333333333,
              "#9c179e"
             ],
             [
              0.4444444444444444,
              "#bd3786"
             ],
             [
              0.5555555555555556,
              "#d8576b"
             ],
             [
              0.6666666666666666,
              "#ed7953"
             ],
             [
              0.7777777777777778,
              "#fb9f3a"
             ],
             [
              0.8888888888888888,
              "#fdca26"
             ],
             [
              1,
              "#f0f921"
             ]
            ],
            "type": "heatmapgl"
           }
          ],
          "histogram": [
           {
            "marker": {
             "pattern": {
              "fillmode": "overlay",
              "size": 10,
              "solidity": 0.2
             }
            },
            "type": "histogram"
           }
          ],
          "histogram2d": [
           {
            "colorbar": {
             "outlinewidth": 0,
             "ticks": ""
            },
            "colorscale": [
             [
              0,
              "#0d0887"
             ],
             [
              0.1111111111111111,
              "#46039f"
             ],
             [
              0.2222222222222222,
              "#7201a8"
             ],
             [
              0.3333333333333333,
              "#9c179e"
             ],
             [
              0.4444444444444444,
              "#bd3786"
             ],
             [
              0.5555555555555556,
              "#d8576b"
             ],
             [
              0.6666666666666666,
              "#ed7953"
             ],
             [
              0.7777777777777778,
              "#fb9f3a"
             ],
             [
              0.8888888888888888,
              "#fdca26"
             ],
             [
              1,
              "#f0f921"
             ]
            ],
            "type": "histogram2d"
           }
          ],
          "histogram2dcontour": [
           {
            "colorbar": {
             "outlinewidth": 0,
             "ticks": ""
            },
            "colorscale": [
             [
              0,
              "#0d0887"
             ],
             [
              0.1111111111111111,
              "#46039f"
             ],
             [
              0.2222222222222222,
              "#7201a8"
             ],
             [
              0.3333333333333333,
              "#9c179e"
             ],
             [
              0.4444444444444444,
              "#bd3786"
             ],
             [
              0.5555555555555556,
              "#d8576b"
             ],
             [
              0.6666666666666666,
              "#ed7953"
             ],
             [
              0.7777777777777778,
              "#fb9f3a"
             ],
             [
              0.8888888888888888,
              "#fdca26"
             ],
             [
              1,
              "#f0f921"
             ]
            ],
            "type": "histogram2dcontour"
           }
          ],
          "mesh3d": [
           {
            "colorbar": {
             "outlinewidth": 0,
             "ticks": ""
            },
            "type": "mesh3d"
           }
          ],
          "parcoords": [
           {
            "line": {
             "colorbar": {
              "outlinewidth": 0,
              "ticks": ""
             }
            },
            "type": "parcoords"
           }
          ],
          "pie": [
           {
            "automargin": true,
            "type": "pie"
           }
          ],
          "scatter": [
           {
            "fillpattern": {
             "fillmode": "overlay",
             "size": 10,
             "solidity": 0.2
            },
            "type": "scatter"
           }
          ],
          "scatter3d": [
           {
            "line": {
             "colorbar": {
              "outlinewidth": 0,
              "ticks": ""
             }
            },
            "marker": {
             "colorbar": {
              "outlinewidth": 0,
              "ticks": ""
             }
            },
            "type": "scatter3d"
           }
          ],
          "scattercarpet": [
           {
            "marker": {
             "colorbar": {
              "outlinewidth": 0,
              "ticks": ""
             }
            },
            "type": "scattercarpet"
           }
          ],
          "scattergeo": [
           {
            "marker": {
             "colorbar": {
              "outlinewidth": 0,
              "ticks": ""
             }
            },
            "type": "scattergeo"
           }
          ],
          "scattergl": [
           {
            "marker": {
             "colorbar": {
              "outlinewidth": 0,
              "ticks": ""
             }
            },
            "type": "scattergl"
           }
          ],
          "scattermapbox": [
           {
            "marker": {
             "colorbar": {
              "outlinewidth": 0,
              "ticks": ""
             }
            },
            "type": "scattermapbox"
           }
          ],
          "scatterpolar": [
           {
            "marker": {
             "colorbar": {
              "outlinewidth": 0,
              "ticks": ""
             }
            },
            "type": "scatterpolar"
           }
          ],
          "scatterpolargl": [
           {
            "marker": {
             "colorbar": {
              "outlinewidth": 0,
              "ticks": ""
             }
            },
            "type": "scatterpolargl"
           }
          ],
          "scatterternary": [
           {
            "marker": {
             "colorbar": {
              "outlinewidth": 0,
              "ticks": ""
             }
            },
            "type": "scatterternary"
           }
          ],
          "surface": [
           {
            "colorbar": {
             "outlinewidth": 0,
             "ticks": ""
            },
            "colorscale": [
             [
              0,
              "#0d0887"
             ],
             [
              0.1111111111111111,
              "#46039f"
             ],
             [
              0.2222222222222222,
              "#7201a8"
             ],
             [
              0.3333333333333333,
              "#9c179e"
             ],
             [
              0.4444444444444444,
              "#bd3786"
             ],
             [
              0.5555555555555556,
              "#d8576b"
             ],
             [
              0.6666666666666666,
              "#ed7953"
             ],
             [
              0.7777777777777778,
              "#fb9f3a"
             ],
             [
              0.8888888888888888,
              "#fdca26"
             ],
             [
              1,
              "#f0f921"
             ]
            ],
            "type": "surface"
           }
          ],
          "table": [
           {
            "cells": {
             "fill": {
              "color": "#EBF0F8"
             },
             "line": {
              "color": "white"
             }
            },
            "header": {
             "fill": {
              "color": "#C8D4E3"
             },
             "line": {
              "color": "white"
             }
            },
            "type": "table"
           }
          ]
         },
         "layout": {
          "annotationdefaults": {
           "arrowcolor": "#2a3f5f",
           "arrowhead": 0,
           "arrowwidth": 1
          },
          "autotypenumbers": "strict",
          "coloraxis": {
           "colorbar": {
            "outlinewidth": 0,
            "ticks": ""
           }
          },
          "colorscale": {
           "diverging": [
            [
             0,
             "#8e0152"
            ],
            [
             0.1,
             "#c51b7d"
            ],
            [
             0.2,
             "#de77ae"
            ],
            [
             0.3,
             "#f1b6da"
            ],
            [
             0.4,
             "#fde0ef"
            ],
            [
             0.5,
             "#f7f7f7"
            ],
            [
             0.6,
             "#e6f5d0"
            ],
            [
             0.7,
             "#b8e186"
            ],
            [
             0.8,
             "#7fbc41"
            ],
            [
             0.9,
             "#4d9221"
            ],
            [
             1,
             "#276419"
            ]
           ],
           "sequential": [
            [
             0,
             "#0d0887"
            ],
            [
             0.1111111111111111,
             "#46039f"
            ],
            [
             0.2222222222222222,
             "#7201a8"
            ],
            [
             0.3333333333333333,
             "#9c179e"
            ],
            [
             0.4444444444444444,
             "#bd3786"
            ],
            [
             0.5555555555555556,
             "#d8576b"
            ],
            [
             0.6666666666666666,
             "#ed7953"
            ],
            [
             0.7777777777777778,
             "#fb9f3a"
            ],
            [
             0.8888888888888888,
             "#fdca26"
            ],
            [
             1,
             "#f0f921"
            ]
           ],
           "sequentialminus": [
            [
             0,
             "#0d0887"
            ],
            [
             0.1111111111111111,
             "#46039f"
            ],
            [
             0.2222222222222222,
             "#7201a8"
            ],
            [
             0.3333333333333333,
             "#9c179e"
            ],
            [
             0.4444444444444444,
             "#bd3786"
            ],
            [
             0.5555555555555556,
             "#d8576b"
            ],
            [
             0.6666666666666666,
             "#ed7953"
            ],
            [
             0.7777777777777778,
             "#fb9f3a"
            ],
            [
             0.8888888888888888,
             "#fdca26"
            ],
            [
             1,
             "#f0f921"
            ]
           ]
          },
          "colorway": [
           "#636efa",
           "#EF553B",
           "#00cc96",
           "#ab63fa",
           "#FFA15A",
           "#19d3f3",
           "#FF6692",
           "#B6E880",
           "#FF97FF",
           "#FECB52"
          ],
          "font": {
           "color": "#2a3f5f"
          },
          "geo": {
           "bgcolor": "white",
           "lakecolor": "white",
           "landcolor": "#E5ECF6",
           "showlakes": true,
           "showland": true,
           "subunitcolor": "white"
          },
          "hoverlabel": {
           "align": "left"
          },
          "hovermode": "closest",
          "mapbox": {
           "style": "light"
          },
          "paper_bgcolor": "white",
          "plot_bgcolor": "#E5ECF6",
          "polar": {
           "angularaxis": {
            "gridcolor": "white",
            "linecolor": "white",
            "ticks": ""
           },
           "bgcolor": "#E5ECF6",
           "radialaxis": {
            "gridcolor": "white",
            "linecolor": "white",
            "ticks": ""
           }
          },
          "scene": {
           "xaxis": {
            "backgroundcolor": "#E5ECF6",
            "gridcolor": "white",
            "gridwidth": 2,
            "linecolor": "white",
            "showbackground": true,
            "ticks": "",
            "zerolinecolor": "white"
           },
           "yaxis": {
            "backgroundcolor": "#E5ECF6",
            "gridcolor": "white",
            "gridwidth": 2,
            "linecolor": "white",
            "showbackground": true,
            "ticks": "",
            "zerolinecolor": "white"
           },
           "zaxis": {
            "backgroundcolor": "#E5ECF6",
            "gridcolor": "white",
            "gridwidth": 2,
            "linecolor": "white",
            "showbackground": true,
            "ticks": "",
            "zerolinecolor": "white"
           }
          },
          "shapedefaults": {
           "line": {
            "color": "#2a3f5f"
           }
          },
          "ternary": {
           "aaxis": {
            "gridcolor": "white",
            "linecolor": "white",
            "ticks": ""
           },
           "baxis": {
            "gridcolor": "white",
            "linecolor": "white",
            "ticks": ""
           },
           "bgcolor": "#E5ECF6",
           "caxis": {
            "gridcolor": "white",
            "linecolor": "white",
            "ticks": ""
           }
          },
          "title": {
           "x": 0.05
          },
          "xaxis": {
           "automargin": true,
           "gridcolor": "white",
           "linecolor": "white",
           "ticks": "",
           "title": {
            "standoff": 15
           },
           "zerolinecolor": "white",
           "zerolinewidth": 2
          },
          "yaxis": {
           "automargin": true,
           "gridcolor": "white",
           "linecolor": "white",
           "ticks": "",
           "title": {
            "standoff": 15
           },
           "zerolinecolor": "white",
           "zerolinewidth": 2
          }
         }
        },
        "title": {
         "text": "Proportion of Patients with Specific Psychiatric Diagnoses"
        }
       }
      },
      "image/png": "[encoded data removed]",
      "text/html": [
       "<div>                            <div id=\"85d7a393-fbc4-45c4-bd03-1e2e3289692b\" class=\"plotly-graph-div\" style=\"height:525px; width:100%;\"></div>            <script type=\"text/javascript\">                require([\"plotly\"], function(Plotly) {                    window.PLOTLYENV=window.PLOTLYENV || {};                                    if (document.getElementById(\"85d7a393-fbc4-45c4-bd03-1e2e3289692b\")) {                    Plotly.newPlot(                        \"85d7a393-fbc4-45c4-bd03-1e2e3289692b\",                        [{\"customdata\":[[\"Specific Psychiatric Diagnoses\"],[\"Other Diagnoses\"]],\"domain\":{\"x\":[0.0,1.0],\"y\":[0.0,1.0]},\"hovertemplate\":\"label=%{label}\\u003cbr\\u003evalue=%{value}\\u003cbr\\u003ecolor=%{customdata[0]}\\u003cextra\\u003e\\u003c\\u002fextra\\u003e\",\"labels\":[\"Specific Psychiatric Diagnoses\",\"Other Diagnoses\"],\"legendgroup\":\"\",\"marker\":{\"colors\":[\"#FF9999\",\"#66B3FF\"]},\"name\":\"\",\"showlegend\":true,\"values\":[13,96],\"type\":\"pie\"}],                        {\"template\":{\"data\":{\"histogram2dcontour\":[{\"type\":\"histogram2dcontour\",\"colorbar\":{\"outlinewidth\":0,\"ticks\":\"\"},\"colorscale\":[[0.0,\"#0d0887\"],[0.1111111111111111,\"#46039f\"],[0.2222222222222222,\"#7201a8\"],[0.3333333333333333,\"#9c179e\"],[0.4444444444444444,\"#bd3786\"],[0.5555555555555556,\"#d8576b\"],[0.6666666666666666,\"#ed7953\"],[0.7777777777777778,\"#fb9f3a\"],[0.8888888888888888,\"#fdca26\"],[1.0,\"#f0f921\"]]}],\"choropleth\":[{\"type\":\"choropleth\",\"colorbar\":{\"outlinewidth\":0,\"ticks\":\"\"}}],\"histogram2d\":[{\"type\":\"histogram2d\",\"colorbar\":{\"outlinewidth\":0,\"ticks\":\"\"},\"colorscale\":[[0.0,\"#0d0887\"],[0.1111111111111111,\"#46039f\"],[0.2222222222222222,\"#7201a8\"],[0.3333333333333333,\"#9c179e\"],[0.4444444444444444,\"#bd3786\"],[0.5555555555555556,\"#d8576b\"],[0.6666666666666666,\"#ed7953\"],[0.7777777777777778,\"#fb9f3a\"],[0.8888888888888888,\"#fdca26\"],[1.0,\"#f0f921\"]]}],\"heatmap\":[{\"type\":\"heatmap\",\"colorbar\":{\"outlinewidth\":0,\"ticks\":\"\"},\"colorscale\":[[0.0,\"#0d0887\"],[0.1111111111111111,\"#46039f\"],[0.2222222222222222,\"#7201a8\"],[0.3333333333333333,\"#9c179e\"],[0.4444444444444444,\"#bd3786\"],[0.5555555555555556,\"#d8576b\"],[0.6666666666666666,\"#ed7953\"],[0.7777777777777778,\"#fb9f3a\"],[0.8888888888888888,\"#fdca26\"],[1.0,\"#f0f921\"]]}],\"heatmapgl\":[{\"type\":\"heatmapgl\",\"colorbar\":{\"outlinewidth\":0,\"ticks\":\"\"},\"colorscale\":[[0.0,\"#0d0887\"],[0.1111111111111111,\"#46039f\"],[0.2222222222222222,\"#7201a8\"],[0.3333333333333333,\"#9c179e\"],[0.4444444444444444,\"#bd3786\"],[0.5555555555555556,\"#d8576b\"],[0.6666666666666666,\"#ed7953\"],[0.7777777777777778,\"#fb9f3a\"],[0.8888888888888888,\"#fdca26\"],[1.0,\"#f0f921\"]]}],\"contourcarpet\":[{\"type\":\"contourcarpet\",\"colorbar\":{\"outlinewidth\":0,\"ticks\":\"\"}}],\"contour\":[{\"type\":\"contour\",\"colorbar\":{\"outlinewidth\":0,\"ticks\":\"\"},\"colorscale\":[[0.0,\"#0d0887\"],[0.1111111111111111,\"#46039f\"],[0.2222222222222222,\"#7201a8\"],[0.3333333333333333,\"#9c179e\"],[0.4444444444444444,\"#bd3786\"],[0.5555555555555556,\"#d8576b\"],[0.6666666666666666,\"#ed7953\"],[0.7777777777777778,\"#fb9f3a\"],[0.8888888888888888,\"#fdca26\"],[1.0,\"#f0f921\"]]}],\"surface\":[{\"type\":\"surface\",\"colorbar\":{\"outlinewidth\":0,\"ticks\":\"\"},\"colorscale\":[[0.0,\"#0d0887\"],[0.1111111111111111,\"#46039f\"],[0.2222222222222222,\"#7201a8\"],[0.3333333333333333,\"#9c179e\"],[0.4444444444444444,\"#bd3786\"],[0.5555555555555556,\"#d8576b\"],[0.6666666666666666,\"#ed7953\"],[0.7777777777777778,\"#fb9f3a\"],[0.8888888888888888,\"#fdca26\"],[1.0,\"#f0f921\"]]}],\"mesh3d\":[{\"type\":\"mesh3d\",\"colorbar\":{\"outlinewidth\":0,\"ticks\":\"\"}}],\"scatter\":[{\"fillpattern\":{\"fillmode\":\"overlay\",\"size\":10,\"solidity\":0.2},\"type\":\"scatter\"}],\"parcoords\":[{\"type\":\"parcoords\",\"line\":{\"colorbar\":{\"outlinewidth\":0,\"ticks\":\"\"}}}],\"scatterpolargl\":[{\"type\":\"scatterpolargl\",\"marker\":{\"colorbar\":{\"outlinewidth\":0,\"ticks\":\"\"}}}],\"bar\":[{\"error_x\":{\"color\":\"#2a3f5f\"},\"error_y\":{\"color\":\"#2a3f5f\"},\"marker\":{\"line\":{\"color\":\"#E5ECF6\",\"width\":0.5},\"pattern\":{\"fillmode\":\"overlay\",\"size\":10,\"solidity\":0.2}},\"type\":\"bar\"}],\"scattergeo\":[{\"type\":\"scattergeo\",\"marker\":{\"colorbar\":{\"outlinewidth\":0,\"ticks\":\"\"}}}],\"scatterpolar\":[{\"type\":\"scatterpolar\",\"marker\":{\"colorbar\":{\"outlinewidth\":0,\"ticks\":\"\"}}}],\"histogram\":[{\"marker\":{\"pattern\":{\"fillmode\":\"overlay\",\"size\":10,\"solidity\":0.2}},\"type\":\"histogram\"}],\"scattergl\":[{\"type\":\"scattergl\",\"marker\":{\"colorbar\":{\"outlinewidth\":0,\"ticks\":\"\"}}}],\"scatter3d\":[{\"type\":\"scatter3d\",\"line\":{\"colorbar\":{\"outlinewidth\":0,\"ticks\":\"\"}},\"marker\":{\"colorbar\":{\"outlinewidth\":0,\"ticks\":\"\"}}}],\"scattermapbox\":[{\"type\":\"scattermapbox\",\"marker\":{\"colorbar\":{\"outlinewidth\":0,\"ticks\":\"\"}}}],\"scatterternary\":[{\"type\":\"scatterternary\",\"marker\":{\"colorbar\":{\"outlinewidth\":0,\"ticks\":\"\"}}}],\"scattercarpet\":[{\"type\":\"scattercarpet\",\"marker\":{\"colorbar\":{\"outlinewidth\":0,\"ticks\":\"\"}}}],\"carpet\":[{\"aaxis\":{\"endlinecolor\":\"#2a3f5f\",\"gridcolor\":\"white\",\"linecolor\":\"white\",\"minorgridcolor\":\"white\",\"startlinecolor\":\"#2a3f5f\"},\"baxis\":{\"endlinecolor\":\"#2a3f5f\",\"gridcolor\":\"white\",\"linecolor\":\"white\",\"minorgridcolor\":\"white\",\"startlinecolor\":\"#2a3f5f\"},\"type\":\"carpet\"}],\"table\":[{\"cells\":{\"fill\":{\"color\":\"#EBF0F8\"},\"line\":{\"color\":\"white\"}},\"header\":{\"fill\":{\"color\":\"#C8D4E3\"},\"line\":{\"color\":\"white\"}},\"type\":\"table\"}],\"barpolar\":[{\"marker\":{\"line\":{\"color\":\"#E5ECF6\",\"width\":0.5},\"pattern\":{\"fillmode\":\"overlay\",\"size\":10,\"solidity\":0.2}},\"type\":\"barpolar\"}],\"pie\":[{\"automargin\":true,\"type\":\"pie\"}]},\"layout\":{\"autotypenumbers\":\"strict\",\"colorway\":[\"#636efa\",\"#EF553B\",\"#00cc96\",\"#ab63fa\",\"#FFA15A\",\"#19d3f3\",\"#FF6692\",\"#B6E880\",\"#FF97FF\",\"#FECB52\"],\"font\":{\"color\":\"#2a3f5f\"},\"hovermode\":\"closest\",\"hoverlabel\":{\"align\":\"left\"},\"paper_bgcolor\":\"white\",\"plot_bgcolor\":\"#E5ECF6\",\"polar\":{\"bgcolor\":\"#E5ECF6\",\"angularaxis\":{\"gridcolor\":\"white\",\"linecolor\":\"white\",\"ticks\":\"\"},\"radialaxis\":{\"gridcolor\":\"white\",\"linecolor\":\"white\",\"ticks\":\"\"}},\"ternary\":{\"bgcolor\":\"#E5ECF6\",\"aaxis\":{\"gridcolor\":\"white\",\"linecolor\":\"white\",\"ticks\":\"\"},\"baxis\":{\"gridcolor\":\"white\",\"linecolor\":\"white\",\"ticks\":\"\"},\"caxis\":{\"gridcolor\":\"white\",\"linecolor\":\"white\",\"ticks\":\"\"}},\"coloraxis\":{\"colorbar\":{\"outlinewidth\":0,\"ticks\":\"\"}},\"colorscale\":{\"sequential\":[[0.0,\"#0d0887\"],[0.1111111111111111,\"#46039f\"],[0.2222222222222222,\"#7201a8\"],[0.3333333333333333,\"#9c179e\"],[0.4444444444444444,\"#bd3786\"],[0.5555555555555556,\"#d8576b\"],[0.6666666666666666,\"#ed7953\"],[0.7777777777777778,\"#fb9f3a\"],[0.8888888888888888,\"#fdca26\"],[1.0,\"#f0f921\"]],\"sequentialminus\":[[0.0,\"#0d0887\"],[0.1111111111111111,\"#46039f\"],[0.2222222222222222,\"#7201a8\"],[0.3333333333333333,\"#9c179e\"],[0.4444444444444444,\"#bd3786\"],[0.5555555555555556,\"#d8576b\"],[0.6666666666666666,\"#ed7953\"],[0.7777777777777778,\"#fb9f3a\"],[0.8888888888888888,\"#fdca26\"],[1.0,\"#f0f921\"]],\"diverging\":[[0,\"#8e0152\"],[0.1,\"#c51b7d\"],[0.2,\"#de77ae\"],[0.3,\"#f1b6da\"],[0.4,\"#fde0ef\"],[0.5,\"#f7f7f7\"],[0.6,\"#e6f5d0\"],[0.7,\"#b8e186\"],[0.8,\"#7fbc41\"],[0.9,\"#4d9221\"],[1,\"#276419\"]]},\"xaxis\":{\"gridcolor\":\"white\",\"linecolor\":\"white\",\"ticks\":\"\",\"title\":{\"standoff\":15},\"zerolinecolor\":\"white\",\"automargin\":true,\"zerolinewidth\":2},\"yaxis\":{\"gridcolor\":\"white\",\"linecolor\":\"white\",\"ticks\":\"\",\"title\":{\"standoff\":15},\"zerolinecolor\":\"white\",\"automargin\":true,\"zerolinewidth\":2},\"scene\":{\"xaxis\":{\"backgroundcolor\":\"#E5ECF6\",\"gridcolor\":\"white\",\"linecolor\":\"white\",\"showbackground\":true,\"ticks\":\"\",\"zerolinecolor\":\"white\",\"gridwidth\":2},\"yaxis\":{\"backgroundcolor\":\"#E5ECF6\",\"gridcolor\":\"white\",\"linecolor\":\"white\",\"showbackground\":true,\"ticks\":\"\",\"zerolinecolor\":\"white\",\"gridwidth\":2},\"zaxis\":{\"backgroundcolor\":\"#E5ECF6\",\"gridcolor\":\"white\",\"linecolor\":\"white\",\"showbackground\":true,\"ticks\":\"\",\"zerolinecolor\":\"white\",\"gridwidth\":2}},\"shapedefaults\":{\"line\":{\"color\":\"#2a3f5f\"}},\"annotationdefaults\":{\"arrowcolor\":\"#2a3f5f\",\"arrowhead\":0,\"arrowwidth\":1},\"geo\":{\"bgcolor\":\"white\",\"landcolor\":\"#E5ECF6\",\"subunitcolor\":\"white\",\"showland\":true,\"showlakes\":true,\"lakecolor\":\"white\"},\"title\":{\"x\":0.05},\"mapbox\":{\"style\":\"light\"}}},\"legend\":{\"tracegroupgap\":0},\"title\":{\"text\":\"Proportion of Patients with Specific Psychiatric Diagnoses\"}},                        {\"responsive\": true}                    ).then(function(){\n",
       "                            \n",
       "var gd = document.getElementById('85d7a393-fbc4-45c4-bd03-1e2e3289692b');\n",
       "var x = new MutationObserver(function (mutations, observer) {{\n",
       "        var display = window.getComputedStyle(gd).display;\n",
       "        if (!display || display === 'none') {{\n",
       "            console.log([gd, 'removed!']);\n",
       "            Plotly.purge(gd);\n",
       "            observer.disconnect();\n",
       "        }}\n",
       "}});\n",
       "\n",
       "// Listen for the removal of the full notebook cells\n",
       "var notebookContainer = gd.closest('#notebook-container');\n",
       "if (notebookContainer) {{\n",
       "    x.observe(notebookContainer, {childList: true});\n",
       "}}\n",
       "\n",
       "// Listen for the clearing of the current output cell\n",
       "var outputEl = gd.closest('.output');\n",
       "if (outputEl) {{\n",
       "    x.observe(outputEl, {childList: true});\n",
       "}}\n",
       "\n",
       "                        })                };                });            </script>        </div>"
      ]
     },
     "metadata": {},
     "output_type": "display_data"
    }
   ],
   "source": [
    "labels = ['Specific Psychiatric Diagnoses', 'Other Diagnoses']\n",
    "sizes = [specific_psychiatric_patient_count, total_patient_count - specific_psychiatric_patient_count]\n",
    "colors = ['#FF9999', '#66B3FF']\n",
    "\n",
    "fig_pie = px.pie(values=sizes, names=labels, \n",
    "                 title=\"Proportion of Patients with Specific Psychiatric Diagnoses\",\n",
    "                 color=labels, color_discrete_map={'Specific Psychiatric Diagnoses': '#FF9999', 'Other Diagnoses': '#66B3FF'})\n",
    "\n",
    "fig_pie.show()"
   ]
  }
 ],
 "metadata": {
  "kernelspec": {
   "display_name": "Python 3 (ipykernel)",
   "language": "python",
   "name": "python3"
  },
  "language_info": {
   "codemirror_mode": {
    "name": "ipython",
    "version": 3
   },
   "file_extension": ".py",
   "mimetype": "text/x-python",
   "name": "python",
   "nbconvert_exporter": "python",
   "pygments_lexer": "ipython3",
   "version": "3.12.4"
  }
 },
 "nbformat": 4,
 "nbformat_minor": 5
}
